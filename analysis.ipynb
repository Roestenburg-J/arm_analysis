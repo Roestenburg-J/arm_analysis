{
 "cells": [
  {
   "cell_type": "code",
   "execution_count": 1,
   "metadata": {
    "ExecuteTime": {
     "end_time": "2024-01-18T09:22:58.139650Z",
     "start_time": "2024-01-18T09:22:57.462624Z"
    }
   },
   "outputs": [],
   "source": [
    "import pandas as pd"
   ]
  },
  {
   "cell_type": "code",
   "execution_count": 22,
   "metadata": {
    "ExecuteTime": {
     "end_time": "2024-01-18T09:41:34.771463Z",
     "start_time": "2024-01-18T09:41:34.743656Z"
    }
   },
   "outputs": [],
   "source": [
    "raw_data = pd.read_csv(\"./data/data3.csv\", skiprows=[2])"
   ]
  },
  {
   "cell_type": "code",
   "execution_count": 23,
   "metadata": {
    "ExecuteTime": {
     "end_time": "2024-01-18T09:41:35.543838Z",
     "start_time": "2024-01-18T09:41:35.528443Z"
    }
   },
   "outputs": [],
   "source": [
    "raw_data = raw_data[raw_data[\"Status\"] == \"IP Address\"]"
   ]
  },
  {
   "cell_type": "code",
   "execution_count": 31,
   "metadata": {
    "ExecuteTime": {
     "end_time": "2024-01-18T09:46:50.003313Z",
     "start_time": "2024-01-18T09:46:49.989747Z"
    }
   },
   "outputs": [
    {
     "data": {
      "text/plain": "              StartDate              EndDate Progress Duration (in seconds)  \\\n19  2024-01-16 05:19:14  2024-01-16 05:33:55      100                   881   \n20  2024-01-16 05:57:58  2024-01-16 06:07:10      100                   551   \n21  2024-01-16 05:58:26  2024-01-16 06:08:48      100                   622   \n22  2024-01-16 06:31:46  2024-01-16 06:44:03      100                   736   \n23  2024-01-16 05:21:40  2024-01-16 08:17:14      100                 10534   \n24  2024-01-16 09:26:32  2024-01-16 09:34:10      100                   457   \n25  2024-01-16 09:27:48  2024-01-16 09:36:15      100                   506   \n26  2024-01-17 03:09:03  2024-01-17 03:19:06      100                   602   \n27  2024-01-17 03:25:49  2024-01-17 03:28:42      100                   173   \n28  2024-01-17 03:25:40  2024-01-17 03:33:06      100                   446   \n29  2024-01-17 03:17:04  2024-01-17 03:40:26      100                  1402   \n30  2024-01-17 03:29:40  2024-01-17 03:41:45      100                   725   \n31  2024-01-17 03:29:06  2024-01-17 03:50:54      100                  1307   \n32  2024-01-17 05:19:34  2024-01-17 05:28:24      100                   529   \n33  2024-01-17 05:52:30  2024-01-17 05:52:46      100                    16   \n34  2024-01-17 05:48:02  2024-01-17 06:04:19      100                   977   \n35  2024-01-17 06:23:12  2024-01-17 06:37:47      100                   875   \n36  2024-01-17 09:49:26  2024-01-17 09:49:48      100                    22   \n37  2024-01-18 01:30:22  2024-01-18 01:45:33      100                   910   \n38  2024-01-18 01:56:28  2024-01-18 01:56:55      100                    27   \n39  2024-01-18 01:56:56  2024-01-18 01:57:05      100                     8   \n40  2024-01-18 02:03:33  2024-01-18 02:06:37      100                   183   \n41  2024-01-18 01:57:16  2024-01-18 02:08:04      100                   647   \n42  2024-01-18 01:58:05  2024-01-18 02:21:53      100                  1428   \n43  2024-01-18 01:33:50  2024-01-18 02:25:09      100                  3078   \n\n   Finished         RecordedDate         ResponseId    Q_RecaptchaScore  QC1  \\\n19     True  2024-01-16 05:33:56  R_72uxJTbT26KJZSJ                   1  Yes   \n20     True  2024-01-16 06:07:11  R_1xlLKSLVgimtnPj  0.8999999761581421  Yes   \n21     True  2024-01-16 06:08:49  R_6nZIlRrs9aUGKHL                   1  Yes   \n22     True  2024-01-16 06:44:03  R_7PplWzAG0igeOml                   1  Yes   \n23     True  2024-01-16 08:17:15  R_2nipTYf8mhH2Yus  0.8999999761581421  Yes   \n24     True  2024-01-16 09:34:11  R_1dy2jAJUx1DgK6R   0.800000011920929  Yes   \n25     True  2024-01-16 09:36:15  R_2esfOQZiXvHpgod  0.8999999761581421  Yes   \n26     True  2024-01-17 03:19:06  R_2z5zMoIKEHtkx0S   0.800000011920929  Yes   \n27     True  2024-01-17 03:28:43  R_6QE4FQzYCk4GaNV                   1  Yes   \n28     True  2024-01-17 03:33:06  R_5IGX6rHpxzyVRGc  0.8999999761581421  Yes   \n29     True  2024-01-17 03:40:27  R_2MsyMcAX4nutM74  0.8999999761581421  Yes   \n30     True  2024-01-17 03:41:45  R_2YaDVDfBJsltjIE  0.8999999761581421  Yes   \n31     True  2024-01-17 03:50:55  R_3IQdy5RVeSJfyyC                   1  Yes   \n32     True  2024-01-17 05:28:25  R_4lyH7ncMlGtZuFj  0.8999999761581421  Yes   \n33     True  2024-01-17 05:52:46  R_1l9yoUxAcnOKaV6  0.8999999761581421   No   \n34     True  2024-01-17 06:04:19  R_1qam3Dnf4duESi7  0.8999999761581421  Yes   \n35     True  2024-01-17 06:37:48  R_6qPD6s4tOB9zmKt                   1  Yes   \n36     True  2024-01-17 09:49:48  R_7wodJYnD7fDVLjz   0.800000011920929   No   \n37     True  2024-01-18 01:45:34  R_1nUUnJUIHqxuCOd                   1  Yes   \n38     True  2024-01-18 01:56:56  R_2fg8EAfmU3P8njB  0.8999999761581421   No   \n39     True  2024-01-18 01:57:05  R_2C6ZOJkP4CSv08f  0.8999999761581421   No   \n40     True  2024-01-18 02:06:38  R_6gc4KN7swj6BhK0  0.8999999761581421  Yes   \n41     True  2024-01-18 02:08:04  R_2r7i31KGMxsO9lU  0.8999999761581421  Yes   \n42     True  2024-01-18 02:21:54  R_2Tt9vlOkpSRwEpc  0.8999999761581421  Yes   \n43     True  2024-01-18 02:25:10  R_14WCmmpBw7GVpjb                   1  Yes   \n\n                          QD1  ... ST6_First Click ST6_Last Click  \\\n19                       Male  ...             NaN            NaN   \n20                       Male  ...             NaN            NaN   \n21                       Male  ...             NaN            NaN   \n22                       Male  ...             NaN            NaN   \n23  Non-binary / third gender  ...             NaN            NaN   \n24                       Male  ...             NaN            NaN   \n25                       Male  ...             NaN            NaN   \n26                     Female  ...             NaN            NaN   \n27                       Male  ...             NaN            NaN   \n28                     Female  ...             NaN            NaN   \n29                     Female  ...             NaN            NaN   \n30                       Male  ...             NaN            NaN   \n31                     Female  ...             NaN            NaN   \n32                     Female  ...             NaN            NaN   \n33                        NaN  ...             NaN            NaN   \n34                     Female  ...             NaN            NaN   \n35                       Male  ...             NaN            NaN   \n36                        NaN  ...             NaN            NaN   \n37                       Male  ...             NaN            NaN   \n38                        NaN  ...             NaN            NaN   \n39                        NaN  ...             NaN            NaN   \n40                       Male  ...             NaN            NaN   \n41                       Male  ...          16.616         77.962   \n42                       Male  ...          87.729        153.112   \n43                       Male  ...            9.36        144.361   \n\n   ST6_Page Submit ST6_Click Count              QS11               Q52  Q80  \\\n19             NaN             NaN               NaN               NaN  NaN   \n20             NaN             NaN               NaN               NaN  NaN   \n21             NaN             NaN   3rd of November   8th of November  1.0   \n22             NaN             NaN  10th of November  24th of November  5.0   \n23             NaN             NaN  10th of November  24th of November  5.0   \n24             NaN             NaN               NaN               NaN  NaN   \n25             NaN             NaN  10th of November  29th of November  3.0   \n26             NaN             NaN  10th of November  24th of November  4.0   \n27             NaN             NaN               NaN               NaN  NaN   \n28             NaN             NaN  10th of November  24th of November  1.0   \n29             NaN             NaN  10th of November  29th of November  3.0   \n30             NaN             NaN               NaN               NaN  NaN   \n31             NaN             NaN               NaN               NaN  NaN   \n32             NaN             NaN  10th of November  24th of November  5.0   \n33             NaN             NaN               NaN               NaN  NaN   \n34             NaN             NaN  10th of November  24th of November  4.0   \n35             NaN             NaN  10th of November  24th of November  1.0   \n36             NaN             NaN               NaN               NaN  NaN   \n37             NaN             NaN               NaN               NaN  NaN   \n38             NaN             NaN               NaN               NaN  NaN   \n39             NaN             NaN               NaN               NaN  NaN   \n40             NaN             NaN               NaN               NaN  NaN   \n41          79.219              12  10th of November  24th of November  5.0   \n42         154.819               4  10th of November  24th of November  2.0   \n43         145.141              19  10th of November  29th of November  5.0   \n\n    Q81 US  UC  \n19  NaN  0   0  \n20  NaN  0   0  \n21  1.0  0   0  \n22  3.0  0   0  \n23  4.0  0   0  \n24  NaN  0   0  \n25  2.0  0   0  \n26  5.0  0   0  \n27  NaN  0   0  \n28  2.0  0   0  \n29  2.0  0   0  \n30  NaN  0   0  \n31  NaN  0   0  \n32  4.0  0   0  \n33  NaN  0   0  \n34  4.0  0   0  \n35  2.0  0   0  \n36  NaN  0   0  \n37  NaN  0   0  \n38  NaN  0   0  \n39  NaN  0   0  \n40  NaN  0   0  \n41  4.0  0   0  \n42  4.0  0   0  \n43  4.0  0   0  \n\n[25 rows x 112 columns]",
      "text/html": "<div>\n<style scoped>\n    .dataframe tbody tr th:only-of-type {\n        vertical-align: middle;\n    }\n\n    .dataframe tbody tr th {\n        vertical-align: top;\n    }\n\n    .dataframe thead th {\n        text-align: right;\n    }\n</style>\n<table border=\"1\" class=\"dataframe\">\n  <thead>\n    <tr style=\"text-align: right;\">\n      <th></th>\n      <th>StartDate</th>\n      <th>EndDate</th>\n      <th>Progress</th>\n      <th>Duration (in seconds)</th>\n      <th>Finished</th>\n      <th>RecordedDate</th>\n      <th>ResponseId</th>\n      <th>Q_RecaptchaScore</th>\n      <th>QC1</th>\n      <th>QD1</th>\n      <th>...</th>\n      <th>ST6_First Click</th>\n      <th>ST6_Last Click</th>\n      <th>ST6_Page Submit</th>\n      <th>ST6_Click Count</th>\n      <th>QS11</th>\n      <th>Q52</th>\n      <th>Q80</th>\n      <th>Q81</th>\n      <th>US</th>\n      <th>UC</th>\n    </tr>\n  </thead>\n  <tbody>\n    <tr>\n      <th>19</th>\n      <td>2024-01-16 05:19:14</td>\n      <td>2024-01-16 05:33:55</td>\n      <td>100</td>\n      <td>881</td>\n      <td>True</td>\n      <td>2024-01-16 05:33:56</td>\n      <td>R_72uxJTbT26KJZSJ</td>\n      <td>1</td>\n      <td>Yes</td>\n      <td>Male</td>\n      <td>...</td>\n      <td>NaN</td>\n      <td>NaN</td>\n      <td>NaN</td>\n      <td>NaN</td>\n      <td>NaN</td>\n      <td>NaN</td>\n      <td>NaN</td>\n      <td>NaN</td>\n      <td>0</td>\n      <td>0</td>\n    </tr>\n    <tr>\n      <th>20</th>\n      <td>2024-01-16 05:57:58</td>\n      <td>2024-01-16 06:07:10</td>\n      <td>100</td>\n      <td>551</td>\n      <td>True</td>\n      <td>2024-01-16 06:07:11</td>\n      <td>R_1xlLKSLVgimtnPj</td>\n      <td>0.8999999761581421</td>\n      <td>Yes</td>\n      <td>Male</td>\n      <td>...</td>\n      <td>NaN</td>\n      <td>NaN</td>\n      <td>NaN</td>\n      <td>NaN</td>\n      <td>NaN</td>\n      <td>NaN</td>\n      <td>NaN</td>\n      <td>NaN</td>\n      <td>0</td>\n      <td>0</td>\n    </tr>\n    <tr>\n      <th>21</th>\n      <td>2024-01-16 05:58:26</td>\n      <td>2024-01-16 06:08:48</td>\n      <td>100</td>\n      <td>622</td>\n      <td>True</td>\n      <td>2024-01-16 06:08:49</td>\n      <td>R_6nZIlRrs9aUGKHL</td>\n      <td>1</td>\n      <td>Yes</td>\n      <td>Male</td>\n      <td>...</td>\n      <td>NaN</td>\n      <td>NaN</td>\n      <td>NaN</td>\n      <td>NaN</td>\n      <td>3rd of November</td>\n      <td>8th of November</td>\n      <td>1.0</td>\n      <td>1.0</td>\n      <td>0</td>\n      <td>0</td>\n    </tr>\n    <tr>\n      <th>22</th>\n      <td>2024-01-16 06:31:46</td>\n      <td>2024-01-16 06:44:03</td>\n      <td>100</td>\n      <td>736</td>\n      <td>True</td>\n      <td>2024-01-16 06:44:03</td>\n      <td>R_7PplWzAG0igeOml</td>\n      <td>1</td>\n      <td>Yes</td>\n      <td>Male</td>\n      <td>...</td>\n      <td>NaN</td>\n      <td>NaN</td>\n      <td>NaN</td>\n      <td>NaN</td>\n      <td>10th of November</td>\n      <td>24th of November</td>\n      <td>5.0</td>\n      <td>3.0</td>\n      <td>0</td>\n      <td>0</td>\n    </tr>\n    <tr>\n      <th>23</th>\n      <td>2024-01-16 05:21:40</td>\n      <td>2024-01-16 08:17:14</td>\n      <td>100</td>\n      <td>10534</td>\n      <td>True</td>\n      <td>2024-01-16 08:17:15</td>\n      <td>R_2nipTYf8mhH2Yus</td>\n      <td>0.8999999761581421</td>\n      <td>Yes</td>\n      <td>Non-binary / third gender</td>\n      <td>...</td>\n      <td>NaN</td>\n      <td>NaN</td>\n      <td>NaN</td>\n      <td>NaN</td>\n      <td>10th of November</td>\n      <td>24th of November</td>\n      <td>5.0</td>\n      <td>4.0</td>\n      <td>0</td>\n      <td>0</td>\n    </tr>\n    <tr>\n      <th>24</th>\n      <td>2024-01-16 09:26:32</td>\n      <td>2024-01-16 09:34:10</td>\n      <td>100</td>\n      <td>457</td>\n      <td>True</td>\n      <td>2024-01-16 09:34:11</td>\n      <td>R_1dy2jAJUx1DgK6R</td>\n      <td>0.800000011920929</td>\n      <td>Yes</td>\n      <td>Male</td>\n      <td>...</td>\n      <td>NaN</td>\n      <td>NaN</td>\n      <td>NaN</td>\n      <td>NaN</td>\n      <td>NaN</td>\n      <td>NaN</td>\n      <td>NaN</td>\n      <td>NaN</td>\n      <td>0</td>\n      <td>0</td>\n    </tr>\n    <tr>\n      <th>25</th>\n      <td>2024-01-16 09:27:48</td>\n      <td>2024-01-16 09:36:15</td>\n      <td>100</td>\n      <td>506</td>\n      <td>True</td>\n      <td>2024-01-16 09:36:15</td>\n      <td>R_2esfOQZiXvHpgod</td>\n      <td>0.8999999761581421</td>\n      <td>Yes</td>\n      <td>Male</td>\n      <td>...</td>\n      <td>NaN</td>\n      <td>NaN</td>\n      <td>NaN</td>\n      <td>NaN</td>\n      <td>10th of November</td>\n      <td>29th of November</td>\n      <td>3.0</td>\n      <td>2.0</td>\n      <td>0</td>\n      <td>0</td>\n    </tr>\n    <tr>\n      <th>26</th>\n      <td>2024-01-17 03:09:03</td>\n      <td>2024-01-17 03:19:06</td>\n      <td>100</td>\n      <td>602</td>\n      <td>True</td>\n      <td>2024-01-17 03:19:06</td>\n      <td>R_2z5zMoIKEHtkx0S</td>\n      <td>0.800000011920929</td>\n      <td>Yes</td>\n      <td>Female</td>\n      <td>...</td>\n      <td>NaN</td>\n      <td>NaN</td>\n      <td>NaN</td>\n      <td>NaN</td>\n      <td>10th of November</td>\n      <td>24th of November</td>\n      <td>4.0</td>\n      <td>5.0</td>\n      <td>0</td>\n      <td>0</td>\n    </tr>\n    <tr>\n      <th>27</th>\n      <td>2024-01-17 03:25:49</td>\n      <td>2024-01-17 03:28:42</td>\n      <td>100</td>\n      <td>173</td>\n      <td>True</td>\n      <td>2024-01-17 03:28:43</td>\n      <td>R_6QE4FQzYCk4GaNV</td>\n      <td>1</td>\n      <td>Yes</td>\n      <td>Male</td>\n      <td>...</td>\n      <td>NaN</td>\n      <td>NaN</td>\n      <td>NaN</td>\n      <td>NaN</td>\n      <td>NaN</td>\n      <td>NaN</td>\n      <td>NaN</td>\n      <td>NaN</td>\n      <td>0</td>\n      <td>0</td>\n    </tr>\n    <tr>\n      <th>28</th>\n      <td>2024-01-17 03:25:40</td>\n      <td>2024-01-17 03:33:06</td>\n      <td>100</td>\n      <td>446</td>\n      <td>True</td>\n      <td>2024-01-17 03:33:06</td>\n      <td>R_5IGX6rHpxzyVRGc</td>\n      <td>0.8999999761581421</td>\n      <td>Yes</td>\n      <td>Female</td>\n      <td>...</td>\n      <td>NaN</td>\n      <td>NaN</td>\n      <td>NaN</td>\n      <td>NaN</td>\n      <td>10th of November</td>\n      <td>24th of November</td>\n      <td>1.0</td>\n      <td>2.0</td>\n      <td>0</td>\n      <td>0</td>\n    </tr>\n    <tr>\n      <th>29</th>\n      <td>2024-01-17 03:17:04</td>\n      <td>2024-01-17 03:40:26</td>\n      <td>100</td>\n      <td>1402</td>\n      <td>True</td>\n      <td>2024-01-17 03:40:27</td>\n      <td>R_2MsyMcAX4nutM74</td>\n      <td>0.8999999761581421</td>\n      <td>Yes</td>\n      <td>Female</td>\n      <td>...</td>\n      <td>NaN</td>\n      <td>NaN</td>\n      <td>NaN</td>\n      <td>NaN</td>\n      <td>10th of November</td>\n      <td>29th of November</td>\n      <td>3.0</td>\n      <td>2.0</td>\n      <td>0</td>\n      <td>0</td>\n    </tr>\n    <tr>\n      <th>30</th>\n      <td>2024-01-17 03:29:40</td>\n      <td>2024-01-17 03:41:45</td>\n      <td>100</td>\n      <td>725</td>\n      <td>True</td>\n      <td>2024-01-17 03:41:45</td>\n      <td>R_2YaDVDfBJsltjIE</td>\n      <td>0.8999999761581421</td>\n      <td>Yes</td>\n      <td>Male</td>\n      <td>...</td>\n      <td>NaN</td>\n      <td>NaN</td>\n      <td>NaN</td>\n      <td>NaN</td>\n      <td>NaN</td>\n      <td>NaN</td>\n      <td>NaN</td>\n      <td>NaN</td>\n      <td>0</td>\n      <td>0</td>\n    </tr>\n    <tr>\n      <th>31</th>\n      <td>2024-01-17 03:29:06</td>\n      <td>2024-01-17 03:50:54</td>\n      <td>100</td>\n      <td>1307</td>\n      <td>True</td>\n      <td>2024-01-17 03:50:55</td>\n      <td>R_3IQdy5RVeSJfyyC</td>\n      <td>1</td>\n      <td>Yes</td>\n      <td>Female</td>\n      <td>...</td>\n      <td>NaN</td>\n      <td>NaN</td>\n      <td>NaN</td>\n      <td>NaN</td>\n      <td>NaN</td>\n      <td>NaN</td>\n      <td>NaN</td>\n      <td>NaN</td>\n      <td>0</td>\n      <td>0</td>\n    </tr>\n    <tr>\n      <th>32</th>\n      <td>2024-01-17 05:19:34</td>\n      <td>2024-01-17 05:28:24</td>\n      <td>100</td>\n      <td>529</td>\n      <td>True</td>\n      <td>2024-01-17 05:28:25</td>\n      <td>R_4lyH7ncMlGtZuFj</td>\n      <td>0.8999999761581421</td>\n      <td>Yes</td>\n      <td>Female</td>\n      <td>...</td>\n      <td>NaN</td>\n      <td>NaN</td>\n      <td>NaN</td>\n      <td>NaN</td>\n      <td>10th of November</td>\n      <td>24th of November</td>\n      <td>5.0</td>\n      <td>4.0</td>\n      <td>0</td>\n      <td>0</td>\n    </tr>\n    <tr>\n      <th>33</th>\n      <td>2024-01-17 05:52:30</td>\n      <td>2024-01-17 05:52:46</td>\n      <td>100</td>\n      <td>16</td>\n      <td>True</td>\n      <td>2024-01-17 05:52:46</td>\n      <td>R_1l9yoUxAcnOKaV6</td>\n      <td>0.8999999761581421</td>\n      <td>No</td>\n      <td>NaN</td>\n      <td>...</td>\n      <td>NaN</td>\n      <td>NaN</td>\n      <td>NaN</td>\n      <td>NaN</td>\n      <td>NaN</td>\n      <td>NaN</td>\n      <td>NaN</td>\n      <td>NaN</td>\n      <td>0</td>\n      <td>0</td>\n    </tr>\n    <tr>\n      <th>34</th>\n      <td>2024-01-17 05:48:02</td>\n      <td>2024-01-17 06:04:19</td>\n      <td>100</td>\n      <td>977</td>\n      <td>True</td>\n      <td>2024-01-17 06:04:19</td>\n      <td>R_1qam3Dnf4duESi7</td>\n      <td>0.8999999761581421</td>\n      <td>Yes</td>\n      <td>Female</td>\n      <td>...</td>\n      <td>NaN</td>\n      <td>NaN</td>\n      <td>NaN</td>\n      <td>NaN</td>\n      <td>10th of November</td>\n      <td>24th of November</td>\n      <td>4.0</td>\n      <td>4.0</td>\n      <td>0</td>\n      <td>0</td>\n    </tr>\n    <tr>\n      <th>35</th>\n      <td>2024-01-17 06:23:12</td>\n      <td>2024-01-17 06:37:47</td>\n      <td>100</td>\n      <td>875</td>\n      <td>True</td>\n      <td>2024-01-17 06:37:48</td>\n      <td>R_6qPD6s4tOB9zmKt</td>\n      <td>1</td>\n      <td>Yes</td>\n      <td>Male</td>\n      <td>...</td>\n      <td>NaN</td>\n      <td>NaN</td>\n      <td>NaN</td>\n      <td>NaN</td>\n      <td>10th of November</td>\n      <td>24th of November</td>\n      <td>1.0</td>\n      <td>2.0</td>\n      <td>0</td>\n      <td>0</td>\n    </tr>\n    <tr>\n      <th>36</th>\n      <td>2024-01-17 09:49:26</td>\n      <td>2024-01-17 09:49:48</td>\n      <td>100</td>\n      <td>22</td>\n      <td>True</td>\n      <td>2024-01-17 09:49:48</td>\n      <td>R_7wodJYnD7fDVLjz</td>\n      <td>0.800000011920929</td>\n      <td>No</td>\n      <td>NaN</td>\n      <td>...</td>\n      <td>NaN</td>\n      <td>NaN</td>\n      <td>NaN</td>\n      <td>NaN</td>\n      <td>NaN</td>\n      <td>NaN</td>\n      <td>NaN</td>\n      <td>NaN</td>\n      <td>0</td>\n      <td>0</td>\n    </tr>\n    <tr>\n      <th>37</th>\n      <td>2024-01-18 01:30:22</td>\n      <td>2024-01-18 01:45:33</td>\n      <td>100</td>\n      <td>910</td>\n      <td>True</td>\n      <td>2024-01-18 01:45:34</td>\n      <td>R_1nUUnJUIHqxuCOd</td>\n      <td>1</td>\n      <td>Yes</td>\n      <td>Male</td>\n      <td>...</td>\n      <td>NaN</td>\n      <td>NaN</td>\n      <td>NaN</td>\n      <td>NaN</td>\n      <td>NaN</td>\n      <td>NaN</td>\n      <td>NaN</td>\n      <td>NaN</td>\n      <td>0</td>\n      <td>0</td>\n    </tr>\n    <tr>\n      <th>38</th>\n      <td>2024-01-18 01:56:28</td>\n      <td>2024-01-18 01:56:55</td>\n      <td>100</td>\n      <td>27</td>\n      <td>True</td>\n      <td>2024-01-18 01:56:56</td>\n      <td>R_2fg8EAfmU3P8njB</td>\n      <td>0.8999999761581421</td>\n      <td>No</td>\n      <td>NaN</td>\n      <td>...</td>\n      <td>NaN</td>\n      <td>NaN</td>\n      <td>NaN</td>\n      <td>NaN</td>\n      <td>NaN</td>\n      <td>NaN</td>\n      <td>NaN</td>\n      <td>NaN</td>\n      <td>0</td>\n      <td>0</td>\n    </tr>\n    <tr>\n      <th>39</th>\n      <td>2024-01-18 01:56:56</td>\n      <td>2024-01-18 01:57:05</td>\n      <td>100</td>\n      <td>8</td>\n      <td>True</td>\n      <td>2024-01-18 01:57:05</td>\n      <td>R_2C6ZOJkP4CSv08f</td>\n      <td>0.8999999761581421</td>\n      <td>No</td>\n      <td>NaN</td>\n      <td>...</td>\n      <td>NaN</td>\n      <td>NaN</td>\n      <td>NaN</td>\n      <td>NaN</td>\n      <td>NaN</td>\n      <td>NaN</td>\n      <td>NaN</td>\n      <td>NaN</td>\n      <td>0</td>\n      <td>0</td>\n    </tr>\n    <tr>\n      <th>40</th>\n      <td>2024-01-18 02:03:33</td>\n      <td>2024-01-18 02:06:37</td>\n      <td>100</td>\n      <td>183</td>\n      <td>True</td>\n      <td>2024-01-18 02:06:38</td>\n      <td>R_6gc4KN7swj6BhK0</td>\n      <td>0.8999999761581421</td>\n      <td>Yes</td>\n      <td>Male</td>\n      <td>...</td>\n      <td>NaN</td>\n      <td>NaN</td>\n      <td>NaN</td>\n      <td>NaN</td>\n      <td>NaN</td>\n      <td>NaN</td>\n      <td>NaN</td>\n      <td>NaN</td>\n      <td>0</td>\n      <td>0</td>\n    </tr>\n    <tr>\n      <th>41</th>\n      <td>2024-01-18 01:57:16</td>\n      <td>2024-01-18 02:08:04</td>\n      <td>100</td>\n      <td>647</td>\n      <td>True</td>\n      <td>2024-01-18 02:08:04</td>\n      <td>R_2r7i31KGMxsO9lU</td>\n      <td>0.8999999761581421</td>\n      <td>Yes</td>\n      <td>Male</td>\n      <td>...</td>\n      <td>16.616</td>\n      <td>77.962</td>\n      <td>79.219</td>\n      <td>12</td>\n      <td>10th of November</td>\n      <td>24th of November</td>\n      <td>5.0</td>\n      <td>4.0</td>\n      <td>0</td>\n      <td>0</td>\n    </tr>\n    <tr>\n      <th>42</th>\n      <td>2024-01-18 01:58:05</td>\n      <td>2024-01-18 02:21:53</td>\n      <td>100</td>\n      <td>1428</td>\n      <td>True</td>\n      <td>2024-01-18 02:21:54</td>\n      <td>R_2Tt9vlOkpSRwEpc</td>\n      <td>0.8999999761581421</td>\n      <td>Yes</td>\n      <td>Male</td>\n      <td>...</td>\n      <td>87.729</td>\n      <td>153.112</td>\n      <td>154.819</td>\n      <td>4</td>\n      <td>10th of November</td>\n      <td>24th of November</td>\n      <td>2.0</td>\n      <td>4.0</td>\n      <td>0</td>\n      <td>0</td>\n    </tr>\n    <tr>\n      <th>43</th>\n      <td>2024-01-18 01:33:50</td>\n      <td>2024-01-18 02:25:09</td>\n      <td>100</td>\n      <td>3078</td>\n      <td>True</td>\n      <td>2024-01-18 02:25:10</td>\n      <td>R_14WCmmpBw7GVpjb</td>\n      <td>1</td>\n      <td>Yes</td>\n      <td>Male</td>\n      <td>...</td>\n      <td>9.36</td>\n      <td>144.361</td>\n      <td>145.141</td>\n      <td>19</td>\n      <td>10th of November</td>\n      <td>29th of November</td>\n      <td>5.0</td>\n      <td>4.0</td>\n      <td>0</td>\n      <td>0</td>\n    </tr>\n  </tbody>\n</table>\n<p>25 rows × 112 columns</p>\n</div>"
     },
     "execution_count": 31,
     "metadata": {},
     "output_type": "execute_result"
    }
   ],
   "source": [
    "raw_data.drop(\n",
    "    columns=[\n",
    "        \"Status\",\n",
    "        \"IPAddress\",\n",
    "        \"RecipientLastName\",\n",
    "        \"RecipientFirstName\",\n",
    "        \"RecipientEmail\",\n",
    "        \"ExternalReference\",\n",
    "        \"LocationLatitude\",\n",
    "        \"LocationLongitude\",\n",
    "        \"DistributionChannel\",\n",
    "        \"UserLanguage\",\n",
    "    ]\n",
    ")"
   ]
  },
  {
   "cell_type": "code",
   "execution_count": 32,
   "metadata": {
    "ExecuteTime": {
     "end_time": "2024-01-18T09:46:52.962227Z",
     "start_time": "2024-01-18T09:46:52.935709Z"
    }
   },
   "outputs": [
    {
     "data": {
      "text/plain": "    QC1.1    QC2    QC3  QUC1  QUS1 CT2_First Click CT2_Last Click  \\\n19   True  False  False   3.0   4.0             NaN            NaN   \n24   True  False   True   1.0   1.0             NaN            NaN   \n27   True   True  False   5.0   4.0             NaN            NaN   \n30   True  False  False   5.0   4.0             NaN            NaN   \n31  False   True   True   2.0   4.0             NaN            NaN   \n37  False  False   True   5.0   4.0           0.901        190.185   \n40   True  False   True   3.0   3.0          10.259         34.052   \n\n   CT2_Page Submit CT2_Click Count QC4_1  ...  Q65  Q66 CT6_First Click  \\\n19             NaN             NaN     1  ...  2.0  2.0             NaN   \n24             NaN             NaN     1  ...  2.0  2.0             NaN   \n27             NaN             NaN     1  ...  3.0  3.0             NaN   \n30             NaN             NaN     1  ...  4.0  4.0             NaN   \n31             NaN             NaN     1  ...  1.0  2.0             NaN   \n37         191.055              44     2  ...  5.0  4.0          16.977   \n40          34.753              12     3  ...  2.0  2.0           2.523   \n\n   CT6_Last Click CT6_Page Submit  CT6_Click Count               Q54  \\\n19            NaN             NaN              NaN   3rd of November   \n24            NaN             NaN              NaN  10th of November   \n27            NaN             NaN              NaN  10th of November   \n30            NaN             NaN              NaN  10th of November   \n31            NaN             NaN              NaN               NaN   \n37        108.901         110.779               25  10th of November   \n40          7.893           8.801               11  10th of November   \n\n                 Q53  Q67  Q68  \n19  24th of November  1.0  1.0  \n24  24th of November  1.0  1.0  \n27  29th of November  1.0  2.0  \n30  24th of November  4.0  4.0  \n31               NaN  NaN  NaN  \n37  24th of November  1.0  1.0  \n40  29th of November  5.0  4.0  \n\n[7 rows x 45 columns]",
      "text/html": "<div>\n<style scoped>\n    .dataframe tbody tr th:only-of-type {\n        vertical-align: middle;\n    }\n\n    .dataframe tbody tr th {\n        vertical-align: top;\n    }\n\n    .dataframe thead th {\n        text-align: right;\n    }\n</style>\n<table border=\"1\" class=\"dataframe\">\n  <thead>\n    <tr style=\"text-align: right;\">\n      <th></th>\n      <th>QC1.1</th>\n      <th>QC2</th>\n      <th>QC3</th>\n      <th>QUC1</th>\n      <th>QUS1</th>\n      <th>CT2_First Click</th>\n      <th>CT2_Last Click</th>\n      <th>CT2_Page Submit</th>\n      <th>CT2_Click Count</th>\n      <th>QC4_1</th>\n      <th>...</th>\n      <th>Q65</th>\n      <th>Q66</th>\n      <th>CT6_First Click</th>\n      <th>CT6_Last Click</th>\n      <th>CT6_Page Submit</th>\n      <th>CT6_Click Count</th>\n      <th>Q54</th>\n      <th>Q53</th>\n      <th>Q67</th>\n      <th>Q68</th>\n    </tr>\n  </thead>\n  <tbody>\n    <tr>\n      <th>19</th>\n      <td>True</td>\n      <td>False</td>\n      <td>False</td>\n      <td>3.0</td>\n      <td>4.0</td>\n      <td>NaN</td>\n      <td>NaN</td>\n      <td>NaN</td>\n      <td>NaN</td>\n      <td>1</td>\n      <td>...</td>\n      <td>2.0</td>\n      <td>2.0</td>\n      <td>NaN</td>\n      <td>NaN</td>\n      <td>NaN</td>\n      <td>NaN</td>\n      <td>3rd of November</td>\n      <td>24th of November</td>\n      <td>1.0</td>\n      <td>1.0</td>\n    </tr>\n    <tr>\n      <th>24</th>\n      <td>True</td>\n      <td>False</td>\n      <td>True</td>\n      <td>1.0</td>\n      <td>1.0</td>\n      <td>NaN</td>\n      <td>NaN</td>\n      <td>NaN</td>\n      <td>NaN</td>\n      <td>1</td>\n      <td>...</td>\n      <td>2.0</td>\n      <td>2.0</td>\n      <td>NaN</td>\n      <td>NaN</td>\n      <td>NaN</td>\n      <td>NaN</td>\n      <td>10th of November</td>\n      <td>24th of November</td>\n      <td>1.0</td>\n      <td>1.0</td>\n    </tr>\n    <tr>\n      <th>27</th>\n      <td>True</td>\n      <td>True</td>\n      <td>False</td>\n      <td>5.0</td>\n      <td>4.0</td>\n      <td>NaN</td>\n      <td>NaN</td>\n      <td>NaN</td>\n      <td>NaN</td>\n      <td>1</td>\n      <td>...</td>\n      <td>3.0</td>\n      <td>3.0</td>\n      <td>NaN</td>\n      <td>NaN</td>\n      <td>NaN</td>\n      <td>NaN</td>\n      <td>10th of November</td>\n      <td>29th of November</td>\n      <td>1.0</td>\n      <td>2.0</td>\n    </tr>\n    <tr>\n      <th>30</th>\n      <td>True</td>\n      <td>False</td>\n      <td>False</td>\n      <td>5.0</td>\n      <td>4.0</td>\n      <td>NaN</td>\n      <td>NaN</td>\n      <td>NaN</td>\n      <td>NaN</td>\n      <td>1</td>\n      <td>...</td>\n      <td>4.0</td>\n      <td>4.0</td>\n      <td>NaN</td>\n      <td>NaN</td>\n      <td>NaN</td>\n      <td>NaN</td>\n      <td>10th of November</td>\n      <td>24th of November</td>\n      <td>4.0</td>\n      <td>4.0</td>\n    </tr>\n    <tr>\n      <th>31</th>\n      <td>False</td>\n      <td>True</td>\n      <td>True</td>\n      <td>2.0</td>\n      <td>4.0</td>\n      <td>NaN</td>\n      <td>NaN</td>\n      <td>NaN</td>\n      <td>NaN</td>\n      <td>1</td>\n      <td>...</td>\n      <td>1.0</td>\n      <td>2.0</td>\n      <td>NaN</td>\n      <td>NaN</td>\n      <td>NaN</td>\n      <td>NaN</td>\n      <td>NaN</td>\n      <td>NaN</td>\n      <td>NaN</td>\n      <td>NaN</td>\n    </tr>\n    <tr>\n      <th>37</th>\n      <td>False</td>\n      <td>False</td>\n      <td>True</td>\n      <td>5.0</td>\n      <td>4.0</td>\n      <td>0.901</td>\n      <td>190.185</td>\n      <td>191.055</td>\n      <td>44</td>\n      <td>2</td>\n      <td>...</td>\n      <td>5.0</td>\n      <td>4.0</td>\n      <td>16.977</td>\n      <td>108.901</td>\n      <td>110.779</td>\n      <td>25</td>\n      <td>10th of November</td>\n      <td>24th of November</td>\n      <td>1.0</td>\n      <td>1.0</td>\n    </tr>\n    <tr>\n      <th>40</th>\n      <td>True</td>\n      <td>False</td>\n      <td>True</td>\n      <td>3.0</td>\n      <td>3.0</td>\n      <td>10.259</td>\n      <td>34.052</td>\n      <td>34.753</td>\n      <td>12</td>\n      <td>3</td>\n      <td>...</td>\n      <td>2.0</td>\n      <td>2.0</td>\n      <td>2.523</td>\n      <td>7.893</td>\n      <td>8.801</td>\n      <td>11</td>\n      <td>10th of November</td>\n      <td>29th of November</td>\n      <td>5.0</td>\n      <td>4.0</td>\n    </tr>\n  </tbody>\n</table>\n<p>7 rows × 45 columns</p>\n</div>"
     },
     "execution_count": 32,
     "metadata": {},
     "output_type": "execute_result"
    }
   ],
   "source": [
    "demographics = raw_data.loc[:, :\"Q_RecaptchaScore\"]\n",
    "# replaces columns into numbers\n",
    "replace_map = {'Satisfied': 4, 'Very satisfied': 5, 'Neither dissatisfied or satisfied': 3, 'Dissatisfied':2, 'Very dissatisfied': 1,'Confident': 4, 'Somewhat confident': 5, 'Neither confident or unsure': 3, 'Not confident':2, 'Not confident at all': 1}\n",
    "raw_data.replace(replace_map, inplace=True)\n",
    "\n",
    "# Make Score for User satisfaction and User Confidence\n",
    "raw_data['US'] = 0\n",
    "raw_data[\"UC\"] = 0\n",
    "\n",
    "complex_responses = raw_data.loc[:, \"QC1.1\":\"Q68\"]\n",
    "simple_responses = raw_data.loc[:, \"QS1\":]\n",
    "\n",
    "simple_responses.dropna(thresh=10)\n",
    "complex_responses.dropna(thresh=10)"
   ]
  },
  {
   "cell_type": "code",
   "execution_count": 33,
   "metadata": {
    "ExecuteTime": {
     "end_time": "2024-01-18T09:47:00.217217Z",
     "start_time": "2024-01-18T09:47:00.187245Z"
    }
   },
   "outputs": [],
   "source": [
    "answer_sheet = pd.read_excel(\"./data/answer_sheet.xlsx\")"
   ]
  },
  {
   "cell_type": "code",
   "execution_count": 34,
   "metadata": {
    "ExecuteTime": {
     "end_time": "2024-01-18T09:47:00.955098Z",
     "start_time": "2024-01-18T09:47:00.939082Z"
    }
   },
   "outputs": [
    {
     "data": {
      "text/plain": "    Q1.1   Q1.2  Q1.3       Q2.1  Q2.2  Q2.3  Q2.4  Q2.5  Q3.1  Q3.2  Q3.3  \\\n0  False  False  True  Executive     2     1     3     4     1     5     4   \n\n   Q3.4  Q3.4.1  Q3.5 Q4.1     Q4.2             Q4.3              Q5.1  \\\n0     3       2    34   Q2  Febuary  January-Febuary  10th of November   \n\n               Q5.2  \n0  24th of November  ",
      "text/html": "<div>\n<style scoped>\n    .dataframe tbody tr th:only-of-type {\n        vertical-align: middle;\n    }\n\n    .dataframe tbody tr th {\n        vertical-align: top;\n    }\n\n    .dataframe thead th {\n        text-align: right;\n    }\n</style>\n<table border=\"1\" class=\"dataframe\">\n  <thead>\n    <tr style=\"text-align: right;\">\n      <th></th>\n      <th>Q1.1</th>\n      <th>Q1.2</th>\n      <th>Q1.3</th>\n      <th>Q2.1</th>\n      <th>Q2.2</th>\n      <th>Q2.3</th>\n      <th>Q2.4</th>\n      <th>Q2.5</th>\n      <th>Q3.1</th>\n      <th>Q3.2</th>\n      <th>Q3.3</th>\n      <th>Q3.4</th>\n      <th>Q3.4.1</th>\n      <th>Q3.5</th>\n      <th>Q4.1</th>\n      <th>Q4.2</th>\n      <th>Q4.3</th>\n      <th>Q5.1</th>\n      <th>Q5.2</th>\n    </tr>\n  </thead>\n  <tbody>\n    <tr>\n      <th>0</th>\n      <td>False</td>\n      <td>False</td>\n      <td>True</td>\n      <td>Executive</td>\n      <td>2</td>\n      <td>1</td>\n      <td>3</td>\n      <td>4</td>\n      <td>1</td>\n      <td>5</td>\n      <td>4</td>\n      <td>3</td>\n      <td>2</td>\n      <td>34</td>\n      <td>Q2</td>\n      <td>Febuary</td>\n      <td>January-Febuary</td>\n      <td>10th of November</td>\n      <td>24th of November</td>\n    </tr>\n  </tbody>\n</table>\n</div>"
     },
     "execution_count": 34,
     "metadata": {},
     "output_type": "execute_result"
    }
   ],
   "source": [
    "answer_sheet.head()"
   ]
  },
  {
   "cell_type": "code",
   "execution_count": 35,
   "metadata": {
    "ExecuteTime": {
     "end_time": "2024-01-18T09:47:04.085808Z",
     "start_time": "2024-01-18T09:47:04.072961Z"
    }
   },
   "outputs": [
    {
     "data": {
      "text/plain": "      US    UC\n19  0.48  0.36\n20   NaN   NaN\n21   NaN   NaN\n22   NaN   NaN\n23   NaN   NaN\n24  0.40  0.36\n25   NaN   NaN\n26   NaN   NaN\n27  0.60  0.52\n28   NaN   NaN\n29   NaN   NaN\n30  0.80  0.88\n31   NaN   NaN\n32   NaN   NaN\n33   NaN   NaN\n34   NaN   NaN\n35   NaN   NaN\n36   NaN   NaN\n37  0.64  0.72\n38   NaN   NaN\n39   NaN   NaN\n40  0.68  0.68\n41   NaN   NaN\n42   NaN   NaN\n43   NaN   NaN",
      "text/html": "<div>\n<style scoped>\n    .dataframe tbody tr th:only-of-type {\n        vertical-align: middle;\n    }\n\n    .dataframe tbody tr th {\n        vertical-align: top;\n    }\n\n    .dataframe thead th {\n        text-align: right;\n    }\n</style>\n<table border=\"1\" class=\"dataframe\">\n  <thead>\n    <tr style=\"text-align: right;\">\n      <th></th>\n      <th>US</th>\n      <th>UC</th>\n    </tr>\n  </thead>\n  <tbody>\n    <tr>\n      <th>19</th>\n      <td>0.48</td>\n      <td>0.36</td>\n    </tr>\n    <tr>\n      <th>20</th>\n      <td>NaN</td>\n      <td>NaN</td>\n    </tr>\n    <tr>\n      <th>21</th>\n      <td>NaN</td>\n      <td>NaN</td>\n    </tr>\n    <tr>\n      <th>22</th>\n      <td>NaN</td>\n      <td>NaN</td>\n    </tr>\n    <tr>\n      <th>23</th>\n      <td>NaN</td>\n      <td>NaN</td>\n    </tr>\n    <tr>\n      <th>24</th>\n      <td>0.40</td>\n      <td>0.36</td>\n    </tr>\n    <tr>\n      <th>25</th>\n      <td>NaN</td>\n      <td>NaN</td>\n    </tr>\n    <tr>\n      <th>26</th>\n      <td>NaN</td>\n      <td>NaN</td>\n    </tr>\n    <tr>\n      <th>27</th>\n      <td>0.60</td>\n      <td>0.52</td>\n    </tr>\n    <tr>\n      <th>28</th>\n      <td>NaN</td>\n      <td>NaN</td>\n    </tr>\n    <tr>\n      <th>29</th>\n      <td>NaN</td>\n      <td>NaN</td>\n    </tr>\n    <tr>\n      <th>30</th>\n      <td>0.80</td>\n      <td>0.88</td>\n    </tr>\n    <tr>\n      <th>31</th>\n      <td>NaN</td>\n      <td>NaN</td>\n    </tr>\n    <tr>\n      <th>32</th>\n      <td>NaN</td>\n      <td>NaN</td>\n    </tr>\n    <tr>\n      <th>33</th>\n      <td>NaN</td>\n      <td>NaN</td>\n    </tr>\n    <tr>\n      <th>34</th>\n      <td>NaN</td>\n      <td>NaN</td>\n    </tr>\n    <tr>\n      <th>35</th>\n      <td>NaN</td>\n      <td>NaN</td>\n    </tr>\n    <tr>\n      <th>36</th>\n      <td>NaN</td>\n      <td>NaN</td>\n    </tr>\n    <tr>\n      <th>37</th>\n      <td>0.64</td>\n      <td>0.72</td>\n    </tr>\n    <tr>\n      <th>38</th>\n      <td>NaN</td>\n      <td>NaN</td>\n    </tr>\n    <tr>\n      <th>39</th>\n      <td>NaN</td>\n      <td>NaN</td>\n    </tr>\n    <tr>\n      <th>40</th>\n      <td>0.68</td>\n      <td>0.68</td>\n    </tr>\n    <tr>\n      <th>41</th>\n      <td>NaN</td>\n      <td>NaN</td>\n    </tr>\n    <tr>\n      <th>42</th>\n      <td>NaN</td>\n      <td>NaN</td>\n    </tr>\n    <tr>\n      <th>43</th>\n      <td>NaN</td>\n      <td>NaN</td>\n    </tr>\n  </tbody>\n</table>\n</div>"
     },
     "execution_count": 35,
     "metadata": {},
     "output_type": "execute_result"
    }
   ],
   "source": [
    "# Calculate User confidence for simple visualizations\n",
    "simple_responses[\"UC\"] = (simple_responses['Q73'] + simple_responses['Q76'] + simple_responses['Q78'] + simple_responses['Q74'] + simple_responses['Q80']) /25\n",
    "# Calculate User satisfaction for simple visualization\n",
    "simple_responses[\"US\"] = (simple_responses['Q72'] + simple_responses['Q75'] + simple_responses['Q77'] + simple_responses['Q79'] + simple_responses['Q81']) /25\n",
    "\n",
    "# Calculate User confidence for complex visualizations\n",
    "complex_responses[\"UC\"] = (complex_responses['QUC1'] + complex_responses['Q61'] + complex_responses['Q63'] + complex_responses['Q65'] + complex_responses['Q67']) /25\n",
    "# Calculate User satisfaction for complex visualization\n",
    "complex_responses[\"US\"] = (complex_responses['QUS1'] + complex_responses['Q62'] + complex_responses['Q64'] + complex_responses['Q66'] + complex_responses['Q68']) /25\n",
    "\n",
    "# show result for simple and complex results\n",
    "complex_responses[[\"US\",\"UC\"]]"
   ]
  },
  {
   "cell_type": "code",
   "outputs": [
    {
     "data": {
      "text/plain": "      US    UC\n19   NaN   NaN\n20   NaN   NaN\n21  0.56  0.56\n22  0.48  0.88\n23  0.76  0.88\n24   NaN   NaN\n25  0.52  0.88\n26  0.76  0.64\n27   NaN   NaN\n28  0.36  0.48\n29  0.56  0.80\n30   NaN   NaN\n31   NaN   NaN\n32  0.64  0.80\n33   NaN   NaN\n34  0.52  0.80\n35  0.56  0.60\n36   NaN   NaN\n37   NaN   NaN\n38   NaN   NaN\n39   NaN   NaN\n40   NaN   NaN\n41  0.64  0.68\n42  0.52  0.68\n43  0.60  0.96",
      "text/html": "<div>\n<style scoped>\n    .dataframe tbody tr th:only-of-type {\n        vertical-align: middle;\n    }\n\n    .dataframe tbody tr th {\n        vertical-align: top;\n    }\n\n    .dataframe thead th {\n        text-align: right;\n    }\n</style>\n<table border=\"1\" class=\"dataframe\">\n  <thead>\n    <tr style=\"text-align: right;\">\n      <th></th>\n      <th>US</th>\n      <th>UC</th>\n    </tr>\n  </thead>\n  <tbody>\n    <tr>\n      <th>19</th>\n      <td>NaN</td>\n      <td>NaN</td>\n    </tr>\n    <tr>\n      <th>20</th>\n      <td>NaN</td>\n      <td>NaN</td>\n    </tr>\n    <tr>\n      <th>21</th>\n      <td>0.56</td>\n      <td>0.56</td>\n    </tr>\n    <tr>\n      <th>22</th>\n      <td>0.48</td>\n      <td>0.88</td>\n    </tr>\n    <tr>\n      <th>23</th>\n      <td>0.76</td>\n      <td>0.88</td>\n    </tr>\n    <tr>\n      <th>24</th>\n      <td>NaN</td>\n      <td>NaN</td>\n    </tr>\n    <tr>\n      <th>25</th>\n      <td>0.52</td>\n      <td>0.88</td>\n    </tr>\n    <tr>\n      <th>26</th>\n      <td>0.76</td>\n      <td>0.64</td>\n    </tr>\n    <tr>\n      <th>27</th>\n      <td>NaN</td>\n      <td>NaN</td>\n    </tr>\n    <tr>\n      <th>28</th>\n      <td>0.36</td>\n      <td>0.48</td>\n    </tr>\n    <tr>\n      <th>29</th>\n      <td>0.56</td>\n      <td>0.80</td>\n    </tr>\n    <tr>\n      <th>30</th>\n      <td>NaN</td>\n      <td>NaN</td>\n    </tr>\n    <tr>\n      <th>31</th>\n      <td>NaN</td>\n      <td>NaN</td>\n    </tr>\n    <tr>\n      <th>32</th>\n      <td>0.64</td>\n      <td>0.80</td>\n    </tr>\n    <tr>\n      <th>33</th>\n      <td>NaN</td>\n      <td>NaN</td>\n    </tr>\n    <tr>\n      <th>34</th>\n      <td>0.52</td>\n      <td>0.80</td>\n    </tr>\n    <tr>\n      <th>35</th>\n      <td>0.56</td>\n      <td>0.60</td>\n    </tr>\n    <tr>\n      <th>36</th>\n      <td>NaN</td>\n      <td>NaN</td>\n    </tr>\n    <tr>\n      <th>37</th>\n      <td>NaN</td>\n      <td>NaN</td>\n    </tr>\n    <tr>\n      <th>38</th>\n      <td>NaN</td>\n      <td>NaN</td>\n    </tr>\n    <tr>\n      <th>39</th>\n      <td>NaN</td>\n      <td>NaN</td>\n    </tr>\n    <tr>\n      <th>40</th>\n      <td>NaN</td>\n      <td>NaN</td>\n    </tr>\n    <tr>\n      <th>41</th>\n      <td>0.64</td>\n      <td>0.68</td>\n    </tr>\n    <tr>\n      <th>42</th>\n      <td>0.52</td>\n      <td>0.68</td>\n    </tr>\n    <tr>\n      <th>43</th>\n      <td>0.60</td>\n      <td>0.96</td>\n    </tr>\n  </tbody>\n</table>\n</div>"
     },
     "execution_count": 30,
     "metadata": {},
     "output_type": "execute_result"
    }
   ],
   "source": [
    "simple_responses[[\"US\",\"UC\"]]"
   ],
   "metadata": {
    "collapsed": false,
    "ExecuteTime": {
     "end_time": "2024-01-18T09:42:37.098453Z",
     "start_time": "2024-01-18T09:42:37.087717Z"
    }
   },
   "execution_count": 30
  },
  {
   "cell_type": "code",
   "outputs": [],
   "source": [],
   "metadata": {
    "collapsed": false
   }
  }
 ],
 "metadata": {
  "kernelspec": {
   "display_name": "base",
   "language": "python",
   "name": "python3"
  },
  "language_info": {
   "codemirror_mode": {
    "name": "ipython",
    "version": 3
   },
   "file_extension": ".py",
   "mimetype": "text/x-python",
   "name": "python",
   "nbconvert_exporter": "python",
   "pygments_lexer": "ipython3",
   "version": "3.11.5"
  }
 },
 "nbformat": 4,
 "nbformat_minor": 2
}
