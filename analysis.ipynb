{
 "cells": [
  {
   "cell_type": "code",
   "execution_count": 36,
   "metadata": {
    "ExecuteTime": {
     "end_time": "2024-01-21T12:03:23.569788Z",
     "start_time": "2024-01-21T12:03:23.429804Z"
    }
   },
   "outputs": [],
   "source": [
    "import pandas as pd"
   ]
  },
  {
   "cell_type": "code",
   "execution_count": 37,
   "metadata": {
    "ExecuteTime": {
     "end_time": "2024-01-21T12:03:24.266389Z",
     "start_time": "2024-01-21T12:03:24.224565Z"
    }
   },
   "outputs": [],
   "source": [
    "raw_data = pd.read_csv(\"./data/data.csv\", skiprows=[2])"
   ]
  },
  {
   "cell_type": "code",
   "execution_count": 38,
   "metadata": {
    "ExecuteTime": {
     "end_time": "2024-01-21T12:03:25.085764Z",
     "start_time": "2024-01-21T12:03:25.064908Z"
    }
   },
   "outputs": [],
   "source": [
    "raw_data = raw_data[raw_data[\"Status\"] == \"IP Address\"]"
   ]
  },
  {
   "cell_type": "code",
   "execution_count": 39,
   "metadata": {
    "ExecuteTime": {
     "end_time": "2024-01-21T12:03:26.453505Z",
     "start_time": "2024-01-21T12:03:26.413179Z"
    }
   },
   "outputs": [
    {
     "data": {
      "text/plain": "              StartDate              EndDate Progress Duration (in seconds)  \\\n19  2024-01-16 05:19:14  2024-01-16 05:33:55      100                   881   \n20  2024-01-16 05:57:58  2024-01-16 06:07:10      100                   551   \n21  2024-01-16 05:58:26  2024-01-16 06:08:48      100                   622   \n22  2024-01-16 06:31:46  2024-01-16 06:44:03      100                   736   \n23  2024-01-16 05:21:40  2024-01-16 08:17:14      100                 10534   \n24  2024-01-16 09:26:32  2024-01-16 09:34:10      100                   457   \n25  2024-01-16 09:27:48  2024-01-16 09:36:15      100                   506   \n26  2024-01-17 03:09:03  2024-01-17 03:19:06      100                   602   \n27  2024-01-17 03:25:49  2024-01-17 03:28:42      100                   173   \n28  2024-01-17 03:25:40  2024-01-17 03:33:06      100                   446   \n29  2024-01-17 03:17:04  2024-01-17 03:40:26      100                  1402   \n30  2024-01-17 03:29:40  2024-01-17 03:41:45      100                   725   \n31  2024-01-17 03:29:06  2024-01-17 03:50:54      100                  1307   \n32  2024-01-17 05:19:34  2024-01-17 05:28:24      100                   529   \n33  2024-01-17 05:52:30  2024-01-17 05:52:46      100                    16   \n34  2024-01-17 05:48:02  2024-01-17 06:04:19      100                   977   \n35  2024-01-17 06:23:12  2024-01-17 06:37:47      100                   875   \n36  2024-01-17 09:49:26  2024-01-17 09:49:48      100                    22   \n37  2024-01-18 01:30:22  2024-01-18 01:45:33      100                   910   \n38  2024-01-18 01:56:28  2024-01-18 01:56:55      100                    27   \n39  2024-01-18 01:56:56  2024-01-18 01:57:05      100                     8   \n40  2024-01-18 02:03:33  2024-01-18 02:06:37      100                   183   \n41  2024-01-18 01:57:16  2024-01-18 02:08:04      100                   647   \n42  2024-01-18 01:58:05  2024-01-18 02:21:53      100                  1428   \n43  2024-01-18 01:33:50  2024-01-18 02:25:09      100                  3078   \n44  2024-01-18 02:47:23  2024-01-18 02:47:39      100                    15   \n45  2024-01-18 02:39:56  2024-01-18 02:50:56      100                   659   \n46  2024-01-18 02:59:40  2024-01-18 03:15:52      100                   972   \n47  2024-01-18 02:57:09  2024-01-18 04:25:09      100                  5280   \n\n   Finished         RecordedDate         ResponseId    Q_RecaptchaScore  QC1  \\\n19     True  2024-01-16 05:33:56  R_72uxJTbT26KJZSJ                   1  Yes   \n20     True  2024-01-16 06:07:11  R_1xlLKSLVgimtnPj  0.8999999761581421  Yes   \n21     True  2024-01-16 06:08:49  R_6nZIlRrs9aUGKHL                   1  Yes   \n22     True  2024-01-16 06:44:03  R_7PplWzAG0igeOml                   1  Yes   \n23     True  2024-01-16 08:17:15  R_2nipTYf8mhH2Yus  0.8999999761581421  Yes   \n24     True  2024-01-16 09:34:11  R_1dy2jAJUx1DgK6R   0.800000011920929  Yes   \n25     True  2024-01-16 09:36:15  R_2esfOQZiXvHpgod  0.8999999761581421  Yes   \n26     True  2024-01-17 03:19:06  R_2z5zMoIKEHtkx0S   0.800000011920929  Yes   \n27     True  2024-01-17 03:28:43  R_6QE4FQzYCk4GaNV                   1  Yes   \n28     True  2024-01-17 03:33:06  R_5IGX6rHpxzyVRGc  0.8999999761581421  Yes   \n29     True  2024-01-17 03:40:27  R_2MsyMcAX4nutM74  0.8999999761581421  Yes   \n30     True  2024-01-17 03:41:45  R_2YaDVDfBJsltjIE  0.8999999761581421  Yes   \n31     True  2024-01-17 03:50:55  R_3IQdy5RVeSJfyyC                   1  Yes   \n32     True  2024-01-17 05:28:25  R_4lyH7ncMlGtZuFj  0.8999999761581421  Yes   \n33     True  2024-01-17 05:52:46  R_1l9yoUxAcnOKaV6  0.8999999761581421   No   \n34     True  2024-01-17 06:04:19  R_1qam3Dnf4duESi7  0.8999999761581421  Yes   \n35     True  2024-01-17 06:37:48  R_6qPD6s4tOB9zmKt                   1  Yes   \n36     True  2024-01-17 09:49:48  R_7wodJYnD7fDVLjz   0.800000011920929   No   \n37     True  2024-01-18 01:45:34  R_1nUUnJUIHqxuCOd                   1  Yes   \n38     True  2024-01-18 01:56:56  R_2fg8EAfmU3P8njB  0.8999999761581421   No   \n39     True  2024-01-18 01:57:05  R_2C6ZOJkP4CSv08f  0.8999999761581421   No   \n40     True  2024-01-18 02:06:38  R_6gc4KN7swj6BhK0  0.8999999761581421  Yes   \n41     True  2024-01-18 02:08:04  R_2r7i31KGMxsO9lU  0.8999999761581421  Yes   \n42     True  2024-01-18 02:21:54  R_2Tt9vlOkpSRwEpc  0.8999999761581421  Yes   \n43     True  2024-01-18 02:25:10  R_14WCmmpBw7GVpjb                   1  Yes   \n44     True  2024-01-18 02:47:40  R_8DYNyTEdOVNbdN9  0.8999999761581421   No   \n45     True  2024-01-18 02:50:57  R_5vdl30qVcpc95E7                   1  Yes   \n46     True  2024-01-18 03:15:53  R_1GDrHYx3lqvexFo                   1  Yes   \n47     True  2024-01-18 04:25:10  R_80uvhYKTbhosoud  0.8999999761581421  Yes   \n\n                          QD1  ...                          Q74  \\\n19                       Male  ...                          NaN   \n20                       Male  ...           Somewhat confident   \n21                       Male  ...  Neither confident or unsure   \n22                       Male  ...           Somewhat confident   \n23  Non-binary / third gender  ...           Somewhat confident   \n24                       Male  ...                          NaN   \n25                       Male  ...           Somewhat confident   \n26                     Female  ...                Not confident   \n27                       Male  ...                          NaN   \n28                     Female  ...         Not confident at all   \n29                     Female  ...           Somewhat confident   \n30                       Male  ...                          NaN   \n31                     Female  ...                          NaN   \n32                     Female  ...           Somewhat confident   \n33                        NaN  ...                          NaN   \n34                     Female  ...           Somewhat confident   \n35                       Male  ...  Neither confident or unsure   \n36                        NaN  ...                          NaN   \n37                       Male  ...                          NaN   \n38                        NaN  ...                          NaN   \n39                        NaN  ...                          NaN   \n40                       Male  ...                          NaN   \n41                       Male  ...           Somewhat confident   \n42                       Male  ...           Somewhat confident   \n43                       Male  ...           Somewhat confident   \n44                        NaN  ...                          NaN   \n45                       Male  ...           Somewhat confident   \n46                       Male  ...                    Confident   \n47                       Male  ...                          NaN   \n\n                                  Q79 ST6_First Click ST6_Last Click  \\\n19                                NaN             NaN            NaN   \n20  Neither dissatisfied or satisfied             NaN            NaN   \n21                       Dissatisfied             NaN            NaN   \n22  Neither dissatisfied or satisfied             NaN            NaN   \n23                          Satisfied             NaN            NaN   \n24                                NaN             NaN            NaN   \n25                          Satisfied             NaN            NaN   \n26  Neither dissatisfied or satisfied             NaN            NaN   \n27                                NaN             NaN            NaN   \n28                  Very dissatisfied             NaN            NaN   \n29                       Dissatisfied             NaN            NaN   \n30                                NaN             NaN            NaN   \n31                                NaN             NaN            NaN   \n32                          Satisfied             NaN            NaN   \n33                                NaN             NaN            NaN   \n34                       Dissatisfied             NaN            NaN   \n35  Neither dissatisfied or satisfied             NaN            NaN   \n36                                NaN             NaN            NaN   \n37                                NaN             NaN            NaN   \n38                                NaN             NaN            NaN   \n39                                NaN             NaN            NaN   \n40                                NaN             NaN            NaN   \n41  Neither dissatisfied or satisfied          16.616         77.962   \n42  Neither dissatisfied or satisfied          87.729        153.112   \n43  Neither dissatisfied or satisfied            9.36        144.361   \n44                                NaN             NaN            NaN   \n45                          Satisfied          33.285        108.114   \n46                          Satisfied           6.961        145.083   \n47                                NaN             NaN            NaN   \n\n   ST6_Page Submit ST6_Click Count              QS11               Q52  \\\n19             NaN             NaN               NaN               NaN   \n20             NaN             NaN               NaN               NaN   \n21             NaN             NaN   3rd of November   8th of November   \n22             NaN             NaN  10th of November  24th of November   \n23             NaN             NaN  10th of November  24th of November   \n24             NaN             NaN               NaN               NaN   \n25             NaN             NaN  10th of November  29th of November   \n26             NaN             NaN  10th of November  24th of November   \n27             NaN             NaN               NaN               NaN   \n28             NaN             NaN  10th of November  24th of November   \n29             NaN             NaN  10th of November  29th of November   \n30             NaN             NaN               NaN               NaN   \n31             NaN             NaN               NaN               NaN   \n32             NaN             NaN  10th of November  24th of November   \n33             NaN             NaN               NaN               NaN   \n34             NaN             NaN  10th of November  24th of November   \n35             NaN             NaN  10th of November  24th of November   \n36             NaN             NaN               NaN               NaN   \n37             NaN             NaN               NaN               NaN   \n38             NaN             NaN               NaN               NaN   \n39             NaN             NaN               NaN               NaN   \n40             NaN             NaN               NaN               NaN   \n41          79.219              12  10th of November  24th of November   \n42         154.819               4  10th of November  24th of November   \n43         145.141              19  10th of November  29th of November   \n44             NaN             NaN               NaN               NaN   \n45         108.792              23  10th of November  24th of November   \n46         146.183              52  10th of November  24th of November   \n47             NaN             NaN               NaN               NaN   \n\n                            Q80                                Q81  \n19                          NaN                                NaN  \n20                          NaN                                NaN  \n21         Not confident at all                  Very dissatisfied  \n22           Somewhat confident  Neither dissatisfied or satisfied  \n23           Somewhat confident                          Satisfied  \n24                          NaN                                NaN  \n25  Neither confident or unsure                       Dissatisfied  \n26                    Confident                     Very satisfied  \n27                          NaN                                NaN  \n28         Not confident at all                       Dissatisfied  \n29  Neither confident or unsure                       Dissatisfied  \n30                          NaN                                NaN  \n31                          NaN                                NaN  \n32           Somewhat confident                          Satisfied  \n33                          NaN                                NaN  \n34                    Confident                          Satisfied  \n35         Not confident at all                       Dissatisfied  \n36                          NaN                                NaN  \n37                          NaN                                NaN  \n38                          NaN                                NaN  \n39                          NaN                                NaN  \n40                          NaN                                NaN  \n41           Somewhat confident                          Satisfied  \n42                Not confident                          Satisfied  \n43           Somewhat confident                          Satisfied  \n44                          NaN                                NaN  \n45  Neither confident or unsure  Neither dissatisfied or satisfied  \n46           Somewhat confident                  Very dissatisfied  \n47                          NaN                                NaN  \n\n[29 rows x 110 columns]",
      "text/html": "<div>\n<style scoped>\n    .dataframe tbody tr th:only-of-type {\n        vertical-align: middle;\n    }\n\n    .dataframe tbody tr th {\n        vertical-align: top;\n    }\n\n    .dataframe thead th {\n        text-align: right;\n    }\n</style>\n<table border=\"1\" class=\"dataframe\">\n  <thead>\n    <tr style=\"text-align: right;\">\n      <th></th>\n      <th>StartDate</th>\n      <th>EndDate</th>\n      <th>Progress</th>\n      <th>Duration (in seconds)</th>\n      <th>Finished</th>\n      <th>RecordedDate</th>\n      <th>ResponseId</th>\n      <th>Q_RecaptchaScore</th>\n      <th>QC1</th>\n      <th>QD1</th>\n      <th>...</th>\n      <th>Q74</th>\n      <th>Q79</th>\n      <th>ST6_First Click</th>\n      <th>ST6_Last Click</th>\n      <th>ST6_Page Submit</th>\n      <th>ST6_Click Count</th>\n      <th>QS11</th>\n      <th>Q52</th>\n      <th>Q80</th>\n      <th>Q81</th>\n    </tr>\n  </thead>\n  <tbody>\n    <tr>\n      <th>19</th>\n      <td>2024-01-16 05:19:14</td>\n      <td>2024-01-16 05:33:55</td>\n      <td>100</td>\n      <td>881</td>\n      <td>True</td>\n      <td>2024-01-16 05:33:56</td>\n      <td>R_72uxJTbT26KJZSJ</td>\n      <td>1</td>\n      <td>Yes</td>\n      <td>Male</td>\n      <td>...</td>\n      <td>NaN</td>\n      <td>NaN</td>\n      <td>NaN</td>\n      <td>NaN</td>\n      <td>NaN</td>\n      <td>NaN</td>\n      <td>NaN</td>\n      <td>NaN</td>\n      <td>NaN</td>\n      <td>NaN</td>\n    </tr>\n    <tr>\n      <th>20</th>\n      <td>2024-01-16 05:57:58</td>\n      <td>2024-01-16 06:07:10</td>\n      <td>100</td>\n      <td>551</td>\n      <td>True</td>\n      <td>2024-01-16 06:07:11</td>\n      <td>R_1xlLKSLVgimtnPj</td>\n      <td>0.8999999761581421</td>\n      <td>Yes</td>\n      <td>Male</td>\n      <td>...</td>\n      <td>Somewhat confident</td>\n      <td>Neither dissatisfied or satisfied</td>\n      <td>NaN</td>\n      <td>NaN</td>\n      <td>NaN</td>\n      <td>NaN</td>\n      <td>NaN</td>\n      <td>NaN</td>\n      <td>NaN</td>\n      <td>NaN</td>\n    </tr>\n    <tr>\n      <th>21</th>\n      <td>2024-01-16 05:58:26</td>\n      <td>2024-01-16 06:08:48</td>\n      <td>100</td>\n      <td>622</td>\n      <td>True</td>\n      <td>2024-01-16 06:08:49</td>\n      <td>R_6nZIlRrs9aUGKHL</td>\n      <td>1</td>\n      <td>Yes</td>\n      <td>Male</td>\n      <td>...</td>\n      <td>Neither confident or unsure</td>\n      <td>Dissatisfied</td>\n      <td>NaN</td>\n      <td>NaN</td>\n      <td>NaN</td>\n      <td>NaN</td>\n      <td>3rd of November</td>\n      <td>8th of November</td>\n      <td>Not confident at all</td>\n      <td>Very dissatisfied</td>\n    </tr>\n    <tr>\n      <th>22</th>\n      <td>2024-01-16 06:31:46</td>\n      <td>2024-01-16 06:44:03</td>\n      <td>100</td>\n      <td>736</td>\n      <td>True</td>\n      <td>2024-01-16 06:44:03</td>\n      <td>R_7PplWzAG0igeOml</td>\n      <td>1</td>\n      <td>Yes</td>\n      <td>Male</td>\n      <td>...</td>\n      <td>Somewhat confident</td>\n      <td>Neither dissatisfied or satisfied</td>\n      <td>NaN</td>\n      <td>NaN</td>\n      <td>NaN</td>\n      <td>NaN</td>\n      <td>10th of November</td>\n      <td>24th of November</td>\n      <td>Somewhat confident</td>\n      <td>Neither dissatisfied or satisfied</td>\n    </tr>\n    <tr>\n      <th>23</th>\n      <td>2024-01-16 05:21:40</td>\n      <td>2024-01-16 08:17:14</td>\n      <td>100</td>\n      <td>10534</td>\n      <td>True</td>\n      <td>2024-01-16 08:17:15</td>\n      <td>R_2nipTYf8mhH2Yus</td>\n      <td>0.8999999761581421</td>\n      <td>Yes</td>\n      <td>Non-binary / third gender</td>\n      <td>...</td>\n      <td>Somewhat confident</td>\n      <td>Satisfied</td>\n      <td>NaN</td>\n      <td>NaN</td>\n      <td>NaN</td>\n      <td>NaN</td>\n      <td>10th of November</td>\n      <td>24th of November</td>\n      <td>Somewhat confident</td>\n      <td>Satisfied</td>\n    </tr>\n    <tr>\n      <th>24</th>\n      <td>2024-01-16 09:26:32</td>\n      <td>2024-01-16 09:34:10</td>\n      <td>100</td>\n      <td>457</td>\n      <td>True</td>\n      <td>2024-01-16 09:34:11</td>\n      <td>R_1dy2jAJUx1DgK6R</td>\n      <td>0.800000011920929</td>\n      <td>Yes</td>\n      <td>Male</td>\n      <td>...</td>\n      <td>NaN</td>\n      <td>NaN</td>\n      <td>NaN</td>\n      <td>NaN</td>\n      <td>NaN</td>\n      <td>NaN</td>\n      <td>NaN</td>\n      <td>NaN</td>\n      <td>NaN</td>\n      <td>NaN</td>\n    </tr>\n    <tr>\n      <th>25</th>\n      <td>2024-01-16 09:27:48</td>\n      <td>2024-01-16 09:36:15</td>\n      <td>100</td>\n      <td>506</td>\n      <td>True</td>\n      <td>2024-01-16 09:36:15</td>\n      <td>R_2esfOQZiXvHpgod</td>\n      <td>0.8999999761581421</td>\n      <td>Yes</td>\n      <td>Male</td>\n      <td>...</td>\n      <td>Somewhat confident</td>\n      <td>Satisfied</td>\n      <td>NaN</td>\n      <td>NaN</td>\n      <td>NaN</td>\n      <td>NaN</td>\n      <td>10th of November</td>\n      <td>29th of November</td>\n      <td>Neither confident or unsure</td>\n      <td>Dissatisfied</td>\n    </tr>\n    <tr>\n      <th>26</th>\n      <td>2024-01-17 03:09:03</td>\n      <td>2024-01-17 03:19:06</td>\n      <td>100</td>\n      <td>602</td>\n      <td>True</td>\n      <td>2024-01-17 03:19:06</td>\n      <td>R_2z5zMoIKEHtkx0S</td>\n      <td>0.800000011920929</td>\n      <td>Yes</td>\n      <td>Female</td>\n      <td>...</td>\n      <td>Not confident</td>\n      <td>Neither dissatisfied or satisfied</td>\n      <td>NaN</td>\n      <td>NaN</td>\n      <td>NaN</td>\n      <td>NaN</td>\n      <td>10th of November</td>\n      <td>24th of November</td>\n      <td>Confident</td>\n      <td>Very satisfied</td>\n    </tr>\n    <tr>\n      <th>27</th>\n      <td>2024-01-17 03:25:49</td>\n      <td>2024-01-17 03:28:42</td>\n      <td>100</td>\n      <td>173</td>\n      <td>True</td>\n      <td>2024-01-17 03:28:43</td>\n      <td>R_6QE4FQzYCk4GaNV</td>\n      <td>1</td>\n      <td>Yes</td>\n      <td>Male</td>\n      <td>...</td>\n      <td>NaN</td>\n      <td>NaN</td>\n      <td>NaN</td>\n      <td>NaN</td>\n      <td>NaN</td>\n      <td>NaN</td>\n      <td>NaN</td>\n      <td>NaN</td>\n      <td>NaN</td>\n      <td>NaN</td>\n    </tr>\n    <tr>\n      <th>28</th>\n      <td>2024-01-17 03:25:40</td>\n      <td>2024-01-17 03:33:06</td>\n      <td>100</td>\n      <td>446</td>\n      <td>True</td>\n      <td>2024-01-17 03:33:06</td>\n      <td>R_5IGX6rHpxzyVRGc</td>\n      <td>0.8999999761581421</td>\n      <td>Yes</td>\n      <td>Female</td>\n      <td>...</td>\n      <td>Not confident at all</td>\n      <td>Very dissatisfied</td>\n      <td>NaN</td>\n      <td>NaN</td>\n      <td>NaN</td>\n      <td>NaN</td>\n      <td>10th of November</td>\n      <td>24th of November</td>\n      <td>Not confident at all</td>\n      <td>Dissatisfied</td>\n    </tr>\n    <tr>\n      <th>29</th>\n      <td>2024-01-17 03:17:04</td>\n      <td>2024-01-17 03:40:26</td>\n      <td>100</td>\n      <td>1402</td>\n      <td>True</td>\n      <td>2024-01-17 03:40:27</td>\n      <td>R_2MsyMcAX4nutM74</td>\n      <td>0.8999999761581421</td>\n      <td>Yes</td>\n      <td>Female</td>\n      <td>...</td>\n      <td>Somewhat confident</td>\n      <td>Dissatisfied</td>\n      <td>NaN</td>\n      <td>NaN</td>\n      <td>NaN</td>\n      <td>NaN</td>\n      <td>10th of November</td>\n      <td>29th of November</td>\n      <td>Neither confident or unsure</td>\n      <td>Dissatisfied</td>\n    </tr>\n    <tr>\n      <th>30</th>\n      <td>2024-01-17 03:29:40</td>\n      <td>2024-01-17 03:41:45</td>\n      <td>100</td>\n      <td>725</td>\n      <td>True</td>\n      <td>2024-01-17 03:41:45</td>\n      <td>R_2YaDVDfBJsltjIE</td>\n      <td>0.8999999761581421</td>\n      <td>Yes</td>\n      <td>Male</td>\n      <td>...</td>\n      <td>NaN</td>\n      <td>NaN</td>\n      <td>NaN</td>\n      <td>NaN</td>\n      <td>NaN</td>\n      <td>NaN</td>\n      <td>NaN</td>\n      <td>NaN</td>\n      <td>NaN</td>\n      <td>NaN</td>\n    </tr>\n    <tr>\n      <th>31</th>\n      <td>2024-01-17 03:29:06</td>\n      <td>2024-01-17 03:50:54</td>\n      <td>100</td>\n      <td>1307</td>\n      <td>True</td>\n      <td>2024-01-17 03:50:55</td>\n      <td>R_3IQdy5RVeSJfyyC</td>\n      <td>1</td>\n      <td>Yes</td>\n      <td>Female</td>\n      <td>...</td>\n      <td>NaN</td>\n      <td>NaN</td>\n      <td>NaN</td>\n      <td>NaN</td>\n      <td>NaN</td>\n      <td>NaN</td>\n      <td>NaN</td>\n      <td>NaN</td>\n      <td>NaN</td>\n      <td>NaN</td>\n    </tr>\n    <tr>\n      <th>32</th>\n      <td>2024-01-17 05:19:34</td>\n      <td>2024-01-17 05:28:24</td>\n      <td>100</td>\n      <td>529</td>\n      <td>True</td>\n      <td>2024-01-17 05:28:25</td>\n      <td>R_4lyH7ncMlGtZuFj</td>\n      <td>0.8999999761581421</td>\n      <td>Yes</td>\n      <td>Female</td>\n      <td>...</td>\n      <td>Somewhat confident</td>\n      <td>Satisfied</td>\n      <td>NaN</td>\n      <td>NaN</td>\n      <td>NaN</td>\n      <td>NaN</td>\n      <td>10th of November</td>\n      <td>24th of November</td>\n      <td>Somewhat confident</td>\n      <td>Satisfied</td>\n    </tr>\n    <tr>\n      <th>33</th>\n      <td>2024-01-17 05:52:30</td>\n      <td>2024-01-17 05:52:46</td>\n      <td>100</td>\n      <td>16</td>\n      <td>True</td>\n      <td>2024-01-17 05:52:46</td>\n      <td>R_1l9yoUxAcnOKaV6</td>\n      <td>0.8999999761581421</td>\n      <td>No</td>\n      <td>NaN</td>\n      <td>...</td>\n      <td>NaN</td>\n      <td>NaN</td>\n      <td>NaN</td>\n      <td>NaN</td>\n      <td>NaN</td>\n      <td>NaN</td>\n      <td>NaN</td>\n      <td>NaN</td>\n      <td>NaN</td>\n      <td>NaN</td>\n    </tr>\n    <tr>\n      <th>34</th>\n      <td>2024-01-17 05:48:02</td>\n      <td>2024-01-17 06:04:19</td>\n      <td>100</td>\n      <td>977</td>\n      <td>True</td>\n      <td>2024-01-17 06:04:19</td>\n      <td>R_1qam3Dnf4duESi7</td>\n      <td>0.8999999761581421</td>\n      <td>Yes</td>\n      <td>Female</td>\n      <td>...</td>\n      <td>Somewhat confident</td>\n      <td>Dissatisfied</td>\n      <td>NaN</td>\n      <td>NaN</td>\n      <td>NaN</td>\n      <td>NaN</td>\n      <td>10th of November</td>\n      <td>24th of November</td>\n      <td>Confident</td>\n      <td>Satisfied</td>\n    </tr>\n    <tr>\n      <th>35</th>\n      <td>2024-01-17 06:23:12</td>\n      <td>2024-01-17 06:37:47</td>\n      <td>100</td>\n      <td>875</td>\n      <td>True</td>\n      <td>2024-01-17 06:37:48</td>\n      <td>R_6qPD6s4tOB9zmKt</td>\n      <td>1</td>\n      <td>Yes</td>\n      <td>Male</td>\n      <td>...</td>\n      <td>Neither confident or unsure</td>\n      <td>Neither dissatisfied or satisfied</td>\n      <td>NaN</td>\n      <td>NaN</td>\n      <td>NaN</td>\n      <td>NaN</td>\n      <td>10th of November</td>\n      <td>24th of November</td>\n      <td>Not confident at all</td>\n      <td>Dissatisfied</td>\n    </tr>\n    <tr>\n      <th>36</th>\n      <td>2024-01-17 09:49:26</td>\n      <td>2024-01-17 09:49:48</td>\n      <td>100</td>\n      <td>22</td>\n      <td>True</td>\n      <td>2024-01-17 09:49:48</td>\n      <td>R_7wodJYnD7fDVLjz</td>\n      <td>0.800000011920929</td>\n      <td>No</td>\n      <td>NaN</td>\n      <td>...</td>\n      <td>NaN</td>\n      <td>NaN</td>\n      <td>NaN</td>\n      <td>NaN</td>\n      <td>NaN</td>\n      <td>NaN</td>\n      <td>NaN</td>\n      <td>NaN</td>\n      <td>NaN</td>\n      <td>NaN</td>\n    </tr>\n    <tr>\n      <th>37</th>\n      <td>2024-01-18 01:30:22</td>\n      <td>2024-01-18 01:45:33</td>\n      <td>100</td>\n      <td>910</td>\n      <td>True</td>\n      <td>2024-01-18 01:45:34</td>\n      <td>R_1nUUnJUIHqxuCOd</td>\n      <td>1</td>\n      <td>Yes</td>\n      <td>Male</td>\n      <td>...</td>\n      <td>NaN</td>\n      <td>NaN</td>\n      <td>NaN</td>\n      <td>NaN</td>\n      <td>NaN</td>\n      <td>NaN</td>\n      <td>NaN</td>\n      <td>NaN</td>\n      <td>NaN</td>\n      <td>NaN</td>\n    </tr>\n    <tr>\n      <th>38</th>\n      <td>2024-01-18 01:56:28</td>\n      <td>2024-01-18 01:56:55</td>\n      <td>100</td>\n      <td>27</td>\n      <td>True</td>\n      <td>2024-01-18 01:56:56</td>\n      <td>R_2fg8EAfmU3P8njB</td>\n      <td>0.8999999761581421</td>\n      <td>No</td>\n      <td>NaN</td>\n      <td>...</td>\n      <td>NaN</td>\n      <td>NaN</td>\n      <td>NaN</td>\n      <td>NaN</td>\n      <td>NaN</td>\n      <td>NaN</td>\n      <td>NaN</td>\n      <td>NaN</td>\n      <td>NaN</td>\n      <td>NaN</td>\n    </tr>\n    <tr>\n      <th>39</th>\n      <td>2024-01-18 01:56:56</td>\n      <td>2024-01-18 01:57:05</td>\n      <td>100</td>\n      <td>8</td>\n      <td>True</td>\n      <td>2024-01-18 01:57:05</td>\n      <td>R_2C6ZOJkP4CSv08f</td>\n      <td>0.8999999761581421</td>\n      <td>No</td>\n      <td>NaN</td>\n      <td>...</td>\n      <td>NaN</td>\n      <td>NaN</td>\n      <td>NaN</td>\n      <td>NaN</td>\n      <td>NaN</td>\n      <td>NaN</td>\n      <td>NaN</td>\n      <td>NaN</td>\n      <td>NaN</td>\n      <td>NaN</td>\n    </tr>\n    <tr>\n      <th>40</th>\n      <td>2024-01-18 02:03:33</td>\n      <td>2024-01-18 02:06:37</td>\n      <td>100</td>\n      <td>183</td>\n      <td>True</td>\n      <td>2024-01-18 02:06:38</td>\n      <td>R_6gc4KN7swj6BhK0</td>\n      <td>0.8999999761581421</td>\n      <td>Yes</td>\n      <td>Male</td>\n      <td>...</td>\n      <td>NaN</td>\n      <td>NaN</td>\n      <td>NaN</td>\n      <td>NaN</td>\n      <td>NaN</td>\n      <td>NaN</td>\n      <td>NaN</td>\n      <td>NaN</td>\n      <td>NaN</td>\n      <td>NaN</td>\n    </tr>\n    <tr>\n      <th>41</th>\n      <td>2024-01-18 01:57:16</td>\n      <td>2024-01-18 02:08:04</td>\n      <td>100</td>\n      <td>647</td>\n      <td>True</td>\n      <td>2024-01-18 02:08:04</td>\n      <td>R_2r7i31KGMxsO9lU</td>\n      <td>0.8999999761581421</td>\n      <td>Yes</td>\n      <td>Male</td>\n      <td>...</td>\n      <td>Somewhat confident</td>\n      <td>Neither dissatisfied or satisfied</td>\n      <td>16.616</td>\n      <td>77.962</td>\n      <td>79.219</td>\n      <td>12</td>\n      <td>10th of November</td>\n      <td>24th of November</td>\n      <td>Somewhat confident</td>\n      <td>Satisfied</td>\n    </tr>\n    <tr>\n      <th>42</th>\n      <td>2024-01-18 01:58:05</td>\n      <td>2024-01-18 02:21:53</td>\n      <td>100</td>\n      <td>1428</td>\n      <td>True</td>\n      <td>2024-01-18 02:21:54</td>\n      <td>R_2Tt9vlOkpSRwEpc</td>\n      <td>0.8999999761581421</td>\n      <td>Yes</td>\n      <td>Male</td>\n      <td>...</td>\n      <td>Somewhat confident</td>\n      <td>Neither dissatisfied or satisfied</td>\n      <td>87.729</td>\n      <td>153.112</td>\n      <td>154.819</td>\n      <td>4</td>\n      <td>10th of November</td>\n      <td>24th of November</td>\n      <td>Not confident</td>\n      <td>Satisfied</td>\n    </tr>\n    <tr>\n      <th>43</th>\n      <td>2024-01-18 01:33:50</td>\n      <td>2024-01-18 02:25:09</td>\n      <td>100</td>\n      <td>3078</td>\n      <td>True</td>\n      <td>2024-01-18 02:25:10</td>\n      <td>R_14WCmmpBw7GVpjb</td>\n      <td>1</td>\n      <td>Yes</td>\n      <td>Male</td>\n      <td>...</td>\n      <td>Somewhat confident</td>\n      <td>Neither dissatisfied or satisfied</td>\n      <td>9.36</td>\n      <td>144.361</td>\n      <td>145.141</td>\n      <td>19</td>\n      <td>10th of November</td>\n      <td>29th of November</td>\n      <td>Somewhat confident</td>\n      <td>Satisfied</td>\n    </tr>\n    <tr>\n      <th>44</th>\n      <td>2024-01-18 02:47:23</td>\n      <td>2024-01-18 02:47:39</td>\n      <td>100</td>\n      <td>15</td>\n      <td>True</td>\n      <td>2024-01-18 02:47:40</td>\n      <td>R_8DYNyTEdOVNbdN9</td>\n      <td>0.8999999761581421</td>\n      <td>No</td>\n      <td>NaN</td>\n      <td>...</td>\n      <td>NaN</td>\n      <td>NaN</td>\n      <td>NaN</td>\n      <td>NaN</td>\n      <td>NaN</td>\n      <td>NaN</td>\n      <td>NaN</td>\n      <td>NaN</td>\n      <td>NaN</td>\n      <td>NaN</td>\n    </tr>\n    <tr>\n      <th>45</th>\n      <td>2024-01-18 02:39:56</td>\n      <td>2024-01-18 02:50:56</td>\n      <td>100</td>\n      <td>659</td>\n      <td>True</td>\n      <td>2024-01-18 02:50:57</td>\n      <td>R_5vdl30qVcpc95E7</td>\n      <td>1</td>\n      <td>Yes</td>\n      <td>Male</td>\n      <td>...</td>\n      <td>Somewhat confident</td>\n      <td>Satisfied</td>\n      <td>33.285</td>\n      <td>108.114</td>\n      <td>108.792</td>\n      <td>23</td>\n      <td>10th of November</td>\n      <td>24th of November</td>\n      <td>Neither confident or unsure</td>\n      <td>Neither dissatisfied or satisfied</td>\n    </tr>\n    <tr>\n      <th>46</th>\n      <td>2024-01-18 02:59:40</td>\n      <td>2024-01-18 03:15:52</td>\n      <td>100</td>\n      <td>972</td>\n      <td>True</td>\n      <td>2024-01-18 03:15:53</td>\n      <td>R_1GDrHYx3lqvexFo</td>\n      <td>1</td>\n      <td>Yes</td>\n      <td>Male</td>\n      <td>...</td>\n      <td>Confident</td>\n      <td>Satisfied</td>\n      <td>6.961</td>\n      <td>145.083</td>\n      <td>146.183</td>\n      <td>52</td>\n      <td>10th of November</td>\n      <td>24th of November</td>\n      <td>Somewhat confident</td>\n      <td>Very dissatisfied</td>\n    </tr>\n    <tr>\n      <th>47</th>\n      <td>2024-01-18 02:57:09</td>\n      <td>2024-01-18 04:25:09</td>\n      <td>100</td>\n      <td>5280</td>\n      <td>True</td>\n      <td>2024-01-18 04:25:10</td>\n      <td>R_80uvhYKTbhosoud</td>\n      <td>0.8999999761581421</td>\n      <td>Yes</td>\n      <td>Male</td>\n      <td>...</td>\n      <td>NaN</td>\n      <td>NaN</td>\n      <td>NaN</td>\n      <td>NaN</td>\n      <td>NaN</td>\n      <td>NaN</td>\n      <td>NaN</td>\n      <td>NaN</td>\n      <td>NaN</td>\n      <td>NaN</td>\n    </tr>\n  </tbody>\n</table>\n<p>29 rows × 110 columns</p>\n</div>"
     },
     "execution_count": 39,
     "metadata": {},
     "output_type": "execute_result"
    }
   ],
   "source": [
    "raw_data.drop(\n",
    "    columns=[\n",
    "        \"Status\",\n",
    "        \"IPAddress\",\n",
    "        \"RecipientLastName\",\n",
    "        \"RecipientFirstName\",\n",
    "        \"RecipientEmail\",\n",
    "        \"ExternalReference\",\n",
    "        \"LocationLatitude\",\n",
    "        \"LocationLongitude\",\n",
    "        \"DistributionChannel\",\n",
    "        \"UserLanguage\",\n",
    "    ]\n",
    ")"
   ]
  },
  {
   "cell_type": "code",
   "execution_count": 40,
   "metadata": {
    "ExecuteTime": {
     "end_time": "2024-01-21T12:03:27.738484Z",
     "start_time": "2024-01-21T12:03:27.629131Z"
    }
   },
   "outputs": [],
   "source": [
    "raw_data.to_csv(\"./data/data3.csv\")"
   ]
  },
  {
   "cell_type": "code",
   "execution_count": 41,
   "metadata": {
    "ExecuteTime": {
     "end_time": "2024-01-21T12:03:29.841329Z",
     "start_time": "2024-01-21T12:03:29.778692Z"
    }
   },
   "outputs": [],
   "source": [
    "demographics = raw_data.loc[:, :\"Q_RecaptchaScore\"]\n",
    "# replaces Likert scale with numbers\n",
    "replace_map = {\n",
    "    \"Satisfied\": 4,\n",
    "    \"Very satisfied\": 5,\n",
    "    \"Neither dissatisfied or satisfied\": 3,\n",
    "    \"Dissatisfied\": 2,\n",
    "    \"Very dissatisfied\": 1,\n",
    "    \"Confident\": 4,\n",
    "    \"Somewhat confident\": 5,\n",
    "    \"Neither confident or unsure\": 3,\n",
    "    \"Not confident\": 2,\n",
    "    \"Not confident at all\": 1,\n",
    "}\n",
    "raw_data.replace(replace_map, inplace=True)\n",
    "\n",
    "# Make Score for User satisfaction and User Confidence\n",
    "# raw_data[\"US\"] = 0\n",
    "# raw_data[\"UC\"] = 0\n",
    "\n",
    "complex_responses = raw_data.loc[:, \"QC1.1\":\"Q68\"]\n",
    "simple_responses = raw_data.loc[:, \"QS1\":]"
   ]
  },
  {
   "cell_type": "code",
   "execution_count": 1440,
   "metadata": {},
   "outputs": [],
   "source": [
    "# simple_responses.to_csv(\"./data/simple.csv\")\n",
    "# complex_responses.to_csv(\"./data/complex.csv\")"
   ]
  },
  {
   "cell_type": "code",
   "execution_count": 42,
   "metadata": {
    "ExecuteTime": {
     "end_time": "2024-01-21T12:03:33.759413Z",
     "start_time": "2024-01-21T12:03:33.703473Z"
    }
   },
   "outputs": [
    {
     "data": {
      "text/plain": "      QS1    QS2    QS3  Q73  Q72 QS4_1 QS4_2 QS4_3 QS4_4 QS4_5  ...  Q77  \\\n20  False  False   True  3.0  3.0     1     5     4     3     2  ...  4.0   \n21   True  False  False  5.0  2.0     1     5     4     3     2  ...  5.0   \n22  False  False   True  5.0  2.0     1     4     5     3     2  ...  1.0   \n23  False  False  False  5.0  3.0   NaN   NaN   NaN   NaN   NaN  ...  5.0   \n25  False  False   True  5.0  4.0     1     5     4     3     2  ...  1.0   \n26  False  False  False  1.0  2.0     1     5     4     3     2  ...  5.0   \n28   True  False  False  2.0  2.0     1     5     4     3     2  ...  2.0   \n29  False  False   True  5.0  4.0     1     5     4     3     2  ...  4.0   \n32  False  False   True  5.0  3.0     1     5     4     3     2  ...  3.0   \n34  False  False   True  5.0  3.0     1     5     4     3     2  ...  3.0   \n35  False  False   True  5.0  3.0     1     5     4     3     2  ...  4.0   \n41  False  False  False  3.0  3.0     2     3     5     4     1  ...  2.0   \n42  False  False   True  4.0  2.0     2     4     5     3     1  ...  2.0   \n43  False  False  False  5.0  3.0     1     3     4     5     2  ...  1.0   \n45  False   True  False  2.0  4.0     1     4     3     5     2  ...  4.0   \n46  False  False   True  2.0  4.0     1     2     3     4     5  ...  5.0   \n\n    QS8       QS9               QS10  Q74  Q79              QS11  \\\n20   Q2   October   January-February  5.0  3.0               NaN   \n21   Q2  February  November-December  3.0  2.0   3rd of November   \n22   Q2  February  November-December  5.0  3.0  10th of November   \n23   Q2  February  November-December  5.0  4.0  10th of November   \n25   Q1   October   January-February  5.0  4.0  10th of November   \n26   Q2  February   January-February  2.0  3.0  10th of November   \n28   Q3   October  November-December  1.0  1.0  10th of November   \n29   Q1   October   January-February  5.0  2.0  10th of November   \n32   Q2   October   January-February  5.0  4.0  10th of November   \n34   Q2  February   January-February  5.0  2.0  10th of November   \n35   Q2   October   January-February  3.0  3.0  10th of November   \n41   Q2  February  November-December  5.0  3.0  10th of November   \n42   Q2   October   January-February  5.0  3.0  10th of November   \n43   Q2   October   January-February  5.0  3.0  10th of November   \n45   Q3   October  November-December  5.0  4.0  10th of November   \n46   Q2   October  November-December  4.0  4.0  10th of November   \n\n                 Q52  Q80  Q81  \n20               NaN  NaN  NaN  \n21   8th of November  1.0  1.0  \n22  24th of November  5.0  3.0  \n23  24th of November  5.0  4.0  \n25  29th of November  3.0  2.0  \n26  24th of November  4.0  5.0  \n28  24th of November  1.0  2.0  \n29  29th of November  3.0  2.0  \n32  24th of November  5.0  4.0  \n34  24th of November  4.0  4.0  \n35  24th of November  1.0  2.0  \n41  24th of November  5.0  4.0  \n42  24th of November  2.0  4.0  \n43  29th of November  5.0  4.0  \n45  24th of November  3.0  3.0  \n46  24th of November  5.0  1.0  \n\n[16 rows x 29 columns]",
      "text/html": "<div>\n<style scoped>\n    .dataframe tbody tr th:only-of-type {\n        vertical-align: middle;\n    }\n\n    .dataframe tbody tr th {\n        vertical-align: top;\n    }\n\n    .dataframe thead th {\n        text-align: right;\n    }\n</style>\n<table border=\"1\" class=\"dataframe\">\n  <thead>\n    <tr style=\"text-align: right;\">\n      <th></th>\n      <th>QS1</th>\n      <th>QS2</th>\n      <th>QS3</th>\n      <th>Q73</th>\n      <th>Q72</th>\n      <th>QS4_1</th>\n      <th>QS4_2</th>\n      <th>QS4_3</th>\n      <th>QS4_4</th>\n      <th>QS4_5</th>\n      <th>...</th>\n      <th>Q77</th>\n      <th>QS8</th>\n      <th>QS9</th>\n      <th>QS10</th>\n      <th>Q74</th>\n      <th>Q79</th>\n      <th>QS11</th>\n      <th>Q52</th>\n      <th>Q80</th>\n      <th>Q81</th>\n    </tr>\n  </thead>\n  <tbody>\n    <tr>\n      <th>20</th>\n      <td>False</td>\n      <td>False</td>\n      <td>True</td>\n      <td>3.0</td>\n      <td>3.0</td>\n      <td>1</td>\n      <td>5</td>\n      <td>4</td>\n      <td>3</td>\n      <td>2</td>\n      <td>...</td>\n      <td>4.0</td>\n      <td>Q2</td>\n      <td>October</td>\n      <td>January-February</td>\n      <td>5.0</td>\n      <td>3.0</td>\n      <td>NaN</td>\n      <td>NaN</td>\n      <td>NaN</td>\n      <td>NaN</td>\n    </tr>\n    <tr>\n      <th>21</th>\n      <td>True</td>\n      <td>False</td>\n      <td>False</td>\n      <td>5.0</td>\n      <td>2.0</td>\n      <td>1</td>\n      <td>5</td>\n      <td>4</td>\n      <td>3</td>\n      <td>2</td>\n      <td>...</td>\n      <td>5.0</td>\n      <td>Q2</td>\n      <td>February</td>\n      <td>November-December</td>\n      <td>3.0</td>\n      <td>2.0</td>\n      <td>3rd of November</td>\n      <td>8th of November</td>\n      <td>1.0</td>\n      <td>1.0</td>\n    </tr>\n    <tr>\n      <th>22</th>\n      <td>False</td>\n      <td>False</td>\n      <td>True</td>\n      <td>5.0</td>\n      <td>2.0</td>\n      <td>1</td>\n      <td>4</td>\n      <td>5</td>\n      <td>3</td>\n      <td>2</td>\n      <td>...</td>\n      <td>1.0</td>\n      <td>Q2</td>\n      <td>February</td>\n      <td>November-December</td>\n      <td>5.0</td>\n      <td>3.0</td>\n      <td>10th of November</td>\n      <td>24th of November</td>\n      <td>5.0</td>\n      <td>3.0</td>\n    </tr>\n    <tr>\n      <th>23</th>\n      <td>False</td>\n      <td>False</td>\n      <td>False</td>\n      <td>5.0</td>\n      <td>3.0</td>\n      <td>NaN</td>\n      <td>NaN</td>\n      <td>NaN</td>\n      <td>NaN</td>\n      <td>NaN</td>\n      <td>...</td>\n      <td>5.0</td>\n      <td>Q2</td>\n      <td>February</td>\n      <td>November-December</td>\n      <td>5.0</td>\n      <td>4.0</td>\n      <td>10th of November</td>\n      <td>24th of November</td>\n      <td>5.0</td>\n      <td>4.0</td>\n    </tr>\n    <tr>\n      <th>25</th>\n      <td>False</td>\n      <td>False</td>\n      <td>True</td>\n      <td>5.0</td>\n      <td>4.0</td>\n      <td>1</td>\n      <td>5</td>\n      <td>4</td>\n      <td>3</td>\n      <td>2</td>\n      <td>...</td>\n      <td>1.0</td>\n      <td>Q1</td>\n      <td>October</td>\n      <td>January-February</td>\n      <td>5.0</td>\n      <td>4.0</td>\n      <td>10th of November</td>\n      <td>29th of November</td>\n      <td>3.0</td>\n      <td>2.0</td>\n    </tr>\n    <tr>\n      <th>26</th>\n      <td>False</td>\n      <td>False</td>\n      <td>False</td>\n      <td>1.0</td>\n      <td>2.0</td>\n      <td>1</td>\n      <td>5</td>\n      <td>4</td>\n      <td>3</td>\n      <td>2</td>\n      <td>...</td>\n      <td>5.0</td>\n      <td>Q2</td>\n      <td>February</td>\n      <td>January-February</td>\n      <td>2.0</td>\n      <td>3.0</td>\n      <td>10th of November</td>\n      <td>24th of November</td>\n      <td>4.0</td>\n      <td>5.0</td>\n    </tr>\n    <tr>\n      <th>28</th>\n      <td>True</td>\n      <td>False</td>\n      <td>False</td>\n      <td>2.0</td>\n      <td>2.0</td>\n      <td>1</td>\n      <td>5</td>\n      <td>4</td>\n      <td>3</td>\n      <td>2</td>\n      <td>...</td>\n      <td>2.0</td>\n      <td>Q3</td>\n      <td>October</td>\n      <td>November-December</td>\n      <td>1.0</td>\n      <td>1.0</td>\n      <td>10th of November</td>\n      <td>24th of November</td>\n      <td>1.0</td>\n      <td>2.0</td>\n    </tr>\n    <tr>\n      <th>29</th>\n      <td>False</td>\n      <td>False</td>\n      <td>True</td>\n      <td>5.0</td>\n      <td>4.0</td>\n      <td>1</td>\n      <td>5</td>\n      <td>4</td>\n      <td>3</td>\n      <td>2</td>\n      <td>...</td>\n      <td>4.0</td>\n      <td>Q1</td>\n      <td>October</td>\n      <td>January-February</td>\n      <td>5.0</td>\n      <td>2.0</td>\n      <td>10th of November</td>\n      <td>29th of November</td>\n      <td>3.0</td>\n      <td>2.0</td>\n    </tr>\n    <tr>\n      <th>32</th>\n      <td>False</td>\n      <td>False</td>\n      <td>True</td>\n      <td>5.0</td>\n      <td>3.0</td>\n      <td>1</td>\n      <td>5</td>\n      <td>4</td>\n      <td>3</td>\n      <td>2</td>\n      <td>...</td>\n      <td>3.0</td>\n      <td>Q2</td>\n      <td>October</td>\n      <td>January-February</td>\n      <td>5.0</td>\n      <td>4.0</td>\n      <td>10th of November</td>\n      <td>24th of November</td>\n      <td>5.0</td>\n      <td>4.0</td>\n    </tr>\n    <tr>\n      <th>34</th>\n      <td>False</td>\n      <td>False</td>\n      <td>True</td>\n      <td>5.0</td>\n      <td>3.0</td>\n      <td>1</td>\n      <td>5</td>\n      <td>4</td>\n      <td>3</td>\n      <td>2</td>\n      <td>...</td>\n      <td>3.0</td>\n      <td>Q2</td>\n      <td>February</td>\n      <td>January-February</td>\n      <td>5.0</td>\n      <td>2.0</td>\n      <td>10th of November</td>\n      <td>24th of November</td>\n      <td>4.0</td>\n      <td>4.0</td>\n    </tr>\n    <tr>\n      <th>35</th>\n      <td>False</td>\n      <td>False</td>\n      <td>True</td>\n      <td>5.0</td>\n      <td>3.0</td>\n      <td>1</td>\n      <td>5</td>\n      <td>4</td>\n      <td>3</td>\n      <td>2</td>\n      <td>...</td>\n      <td>4.0</td>\n      <td>Q2</td>\n      <td>October</td>\n      <td>January-February</td>\n      <td>3.0</td>\n      <td>3.0</td>\n      <td>10th of November</td>\n      <td>24th of November</td>\n      <td>1.0</td>\n      <td>2.0</td>\n    </tr>\n    <tr>\n      <th>41</th>\n      <td>False</td>\n      <td>False</td>\n      <td>False</td>\n      <td>3.0</td>\n      <td>3.0</td>\n      <td>2</td>\n      <td>3</td>\n      <td>5</td>\n      <td>4</td>\n      <td>1</td>\n      <td>...</td>\n      <td>2.0</td>\n      <td>Q2</td>\n      <td>February</td>\n      <td>November-December</td>\n      <td>5.0</td>\n      <td>3.0</td>\n      <td>10th of November</td>\n      <td>24th of November</td>\n      <td>5.0</td>\n      <td>4.0</td>\n    </tr>\n    <tr>\n      <th>42</th>\n      <td>False</td>\n      <td>False</td>\n      <td>True</td>\n      <td>4.0</td>\n      <td>2.0</td>\n      <td>2</td>\n      <td>4</td>\n      <td>5</td>\n      <td>3</td>\n      <td>1</td>\n      <td>...</td>\n      <td>2.0</td>\n      <td>Q2</td>\n      <td>October</td>\n      <td>January-February</td>\n      <td>5.0</td>\n      <td>3.0</td>\n      <td>10th of November</td>\n      <td>24th of November</td>\n      <td>2.0</td>\n      <td>4.0</td>\n    </tr>\n    <tr>\n      <th>43</th>\n      <td>False</td>\n      <td>False</td>\n      <td>False</td>\n      <td>5.0</td>\n      <td>3.0</td>\n      <td>1</td>\n      <td>3</td>\n      <td>4</td>\n      <td>5</td>\n      <td>2</td>\n      <td>...</td>\n      <td>1.0</td>\n      <td>Q2</td>\n      <td>October</td>\n      <td>January-February</td>\n      <td>5.0</td>\n      <td>3.0</td>\n      <td>10th of November</td>\n      <td>29th of November</td>\n      <td>5.0</td>\n      <td>4.0</td>\n    </tr>\n    <tr>\n      <th>45</th>\n      <td>False</td>\n      <td>True</td>\n      <td>False</td>\n      <td>2.0</td>\n      <td>4.0</td>\n      <td>1</td>\n      <td>4</td>\n      <td>3</td>\n      <td>5</td>\n      <td>2</td>\n      <td>...</td>\n      <td>4.0</td>\n      <td>Q3</td>\n      <td>October</td>\n      <td>November-December</td>\n      <td>5.0</td>\n      <td>4.0</td>\n      <td>10th of November</td>\n      <td>24th of November</td>\n      <td>3.0</td>\n      <td>3.0</td>\n    </tr>\n    <tr>\n      <th>46</th>\n      <td>False</td>\n      <td>False</td>\n      <td>True</td>\n      <td>2.0</td>\n      <td>4.0</td>\n      <td>1</td>\n      <td>2</td>\n      <td>3</td>\n      <td>4</td>\n      <td>5</td>\n      <td>...</td>\n      <td>5.0</td>\n      <td>Q2</td>\n      <td>October</td>\n      <td>November-December</td>\n      <td>4.0</td>\n      <td>4.0</td>\n      <td>10th of November</td>\n      <td>24th of November</td>\n      <td>5.0</td>\n      <td>1.0</td>\n    </tr>\n  </tbody>\n</table>\n<p>16 rows × 29 columns</p>\n</div>"
     },
     "execution_count": 42,
     "metadata": {},
     "output_type": "execute_result"
    }
   ],
   "source": [
    "# Dropping time metrics as we do not have enough yet\n",
    "# Dropping time metrics as we do not have enough yet\n",
    "columns_to_drop = (\n",
    "    list(range(5, 9)) + list(range(17, 21)) + list(range(28, 32)) + list(range(37, 41))\n",
    ")\n",
    "\n",
    "# print(simple_responses.columns)\n",
    "simple_responses.drop(simple_responses.columns[columns_to_drop], axis=1, inplace=True)\n",
    "complex_responses.drop(complex_responses.columns[columns_to_drop], axis=1, inplace=True)\n",
    "\n",
    "simple_responses = simple_responses.dropna(thresh=10, axis=0)\n",
    "complex_responses = complex_responses.dropna(thresh=20, axis=0)\n",
    "\n",
    "simple_responses.to_csv(\"./data/simple.csv\")\n",
    "complex_responses.to_csv(\"./data/complex.csv\")\n",
    "\n",
    "# print(complex_responses.columns)\n",
    "\n",
    "simple_responses.head(20)"
   ]
  },
  {
   "cell_type": "code",
   "execution_count": 43,
   "metadata": {
    "ExecuteTime": {
     "end_time": "2024-01-21T12:03:38.814883Z",
     "start_time": "2024-01-21T12:03:38.552992Z"
    }
   },
   "outputs": [],
   "source": [
    "answer_sheet = pd.read_excel(\"./data/answer_sheet.xlsx\")\n",
    "answer_sheet = answer_sheet.astype(str)"
   ]
  },
  {
   "cell_type": "code",
   "execution_count": 44,
   "metadata": {
    "ExecuteTime": {
     "end_time": "2024-01-21T12:03:39.454911Z",
     "start_time": "2024-01-21T12:03:39.417625Z"
    }
   },
   "outputs": [
    {
     "data": {
      "text/plain": "    Q1.1   Q1.2  Q1.3 Q2.1 Q2.2 Q2.3 Q2.4 Q2.5 Q2.6       Q3.1 Q3.2 Q3.3 Q3.4  \\\n0  False  False  True    5    1    4    3    2   34  Executive    2    1    3   \n\n  Q3.5 Q4.1     Q4.2             Q4.3              Q5.1              Q5.2  \n0    4   Q2  Febuary  January-Febuary  10th of November  24th of November  ",
      "text/html": "<div>\n<style scoped>\n    .dataframe tbody tr th:only-of-type {\n        vertical-align: middle;\n    }\n\n    .dataframe tbody tr th {\n        vertical-align: top;\n    }\n\n    .dataframe thead th {\n        text-align: right;\n    }\n</style>\n<table border=\"1\" class=\"dataframe\">\n  <thead>\n    <tr style=\"text-align: right;\">\n      <th></th>\n      <th>Q1.1</th>\n      <th>Q1.2</th>\n      <th>Q1.3</th>\n      <th>Q2.1</th>\n      <th>Q2.2</th>\n      <th>Q2.3</th>\n      <th>Q2.4</th>\n      <th>Q2.5</th>\n      <th>Q2.6</th>\n      <th>Q3.1</th>\n      <th>Q3.2</th>\n      <th>Q3.3</th>\n      <th>Q3.4</th>\n      <th>Q3.5</th>\n      <th>Q4.1</th>\n      <th>Q4.2</th>\n      <th>Q4.3</th>\n      <th>Q5.1</th>\n      <th>Q5.2</th>\n    </tr>\n  </thead>\n  <tbody>\n    <tr>\n      <th>0</th>\n      <td>False</td>\n      <td>False</td>\n      <td>True</td>\n      <td>5</td>\n      <td>1</td>\n      <td>4</td>\n      <td>3</td>\n      <td>2</td>\n      <td>34</td>\n      <td>Executive</td>\n      <td>2</td>\n      <td>1</td>\n      <td>3</td>\n      <td>4</td>\n      <td>Q2</td>\n      <td>Febuary</td>\n      <td>January-Febuary</td>\n      <td>10th of November</td>\n      <td>24th of November</td>\n    </tr>\n  </tbody>\n</table>\n</div>"
     },
     "execution_count": 44,
     "metadata": {},
     "output_type": "execute_result"
    }
   ],
   "source": [
    "answer_sheet.head()"
   ]
  },
  {
   "cell_type": "code",
   "execution_count": 45,
   "metadata": {
    "ExecuteTime": {
     "end_time": "2024-01-21T12:03:42.207303Z",
     "start_time": "2024-01-21T12:03:42.201372Z"
    }
   },
   "outputs": [],
   "source": [
    "def calculate(question, answer, question_nr):\n",
    "    score_list = []\n",
    "\n",
    "    for _, row in question.iterrows():\n",
    "        correct_answers = (row == answer.iloc[0, :]).sum()\n",
    "        total_questions = len(row)\n",
    "        accuracy = correct_answers / total_questions\n",
    "\n",
    "        score_list.append({question_nr + \"_Accuracy\": accuracy})\n",
    "\n",
    "    score_df = pd.DataFrame(score_list)\n",
    "    return score_df"
   ]
  },
  {
   "cell_type": "code",
   "execution_count": 46,
   "metadata": {
    "ExecuteTime": {
     "end_time": "2024-01-21T12:03:43.059965Z",
     "start_time": "2024-01-21T12:03:43.046357Z"
    }
   },
   "outputs": [],
   "source": [
    "def calculate_scores(responses, answer_sheet, complexity):\n",
    "    # Retrieve answers from answer sheet\n",
    "    answer_Q1 = answer_sheet.iloc[:, 0:3]\n",
    "    answer_Q2 = answer_sheet.iloc[:, 3:9]\n",
    "    answer_Q3 = answer_sheet.iloc[:, 9:14]\n",
    "    answer_Q4 = answer_sheet.iloc[:, 14:17]\n",
    "    answer_Q5 = answer_sheet.iloc[:, 17:]\n",
    "\n",
    "    # Retreive questions and corresponding likert responses\n",
    "    question_Q1 = responses.iloc[:, 0:3]\n",
    "    question_Q1.columns = [\"Q1.1\", \"Q1.2\", \"Q1.3\"]\n",
    "    likert_Q1 = responses.iloc[:, 3:5]\n",
    "    likert_Q1.columns = [\"Q1_Con\", \"Q1_Sat\"]\n",
    "\n",
    "    question_Q2 = responses.iloc[:, 5:11]\n",
    "    question_Q2.columns = [\"Q2.1\", \"Q2.2\", \"Q2.3\", \"Q2.4\", \"Q2.5\", \"Q2.6\"]\n",
    "    likert_Q2 = responses.iloc[:, 11:13]\n",
    "    likert_Q2.columns = [\"Q2_Con\", \"Q2_Sat\"]\n",
    "\n",
    "    question_Q3 = responses.iloc[:, 13:18]\n",
    "    question_Q3.columns = [\"Q3.1\", \"Q3.2\", \"Q3.3\", \"Q3.4\", \"Q3.5\"]\n",
    "    likert_Q3 = responses.iloc[:, 18:20]\n",
    "    likert_Q3.columns = [\"Q3_Con\", \"Q3_Sat\"]\n",
    "\n",
    "    question_Q4 = responses.iloc[:, 20:23]\n",
    "    question_Q4.columns = [\"Q4.1\", \"Q4.2\", \"Q4.3\"]\n",
    "    likert_Q4 = responses.iloc[:, 23:25]\n",
    "    likert_Q4.columns = [\"Q4_Con\", \"Q4_Sat\"]\n",
    "\n",
    "    question_Q5 = responses.iloc[:, 25:27]\n",
    "    question_Q5.columns = [\"Q5.1\", \"Q5.2\"]\n",
    "    likert_Q5 = responses.iloc[:, 27:]\n",
    "    likert_Q5.columns = [\"Q5_Con\", \"Q5_Sat\"]\n",
    "\n",
    "    # Calculate score for each question using calculate function\n",
    "    score_Q1 = calculate(question_Q1, answer_Q1, \"Q1\")\n",
    "    score_Q2 = calculate(question_Q2, answer_Q2, \"Q2\")\n",
    "    score_Q3 = calculate(question_Q3, answer_Q3, \"Q3\")\n",
    "    score_Q4 = calculate(question_Q4, answer_Q4, \"Q4\")\n",
    "    score_Q5 = calculate(question_Q5, answer_Q5, \"Q5\")\n",
    "\n",
    "    # Combine into one file\n",
    "    total = pd.concat(\n",
    "        [\n",
    "            score_Q1,\n",
    "            likert_Q1.reset_index(drop=True),\n",
    "            score_Q2,\n",
    "            likert_Q2.reset_index(drop=True),\n",
    "            score_Q3,\n",
    "            likert_Q3.reset_index(drop=True),\n",
    "            score_Q4,\n",
    "            likert_Q4.reset_index(drop=True),\n",
    "            score_Q5,\n",
    "            likert_Q5.reset_index(drop=True),\n",
    "        ],\n",
    "        axis=1,\n",
    "    )\n",
    "\n",
    "    total[\"Complexity\"] = complexity\n",
    "\n",
    "    return total"
   ]
  },
  {
   "cell_type": "code",
   "execution_count": 1446,
   "metadata": {},
   "outputs": [],
   "source": [
    "# answer_Q1 = answer_sheet.iloc[:, 0:3]\n",
    "# answer_Q2 = answer_sheet.iloc[:, 3:9]\n",
    "# answer_Q3 = answer_sheet.iloc[:, 9:14]\n",
    "# answer_Q4 = answer_sheet.iloc[:, 14:17]\n",
    "# answer_Q5 = answer_sheet.iloc[:, 17:]"
   ]
  },
  {
   "cell_type": "code",
   "execution_count": 1447,
   "metadata": {},
   "outputs": [],
   "source": [
    "# question_Q1 = complex_responses.iloc[:, 0:3]\n",
    "# question_Q1.columns = [\"Q1.1\", \"Q1.2\", \"Q1.3\"]\n",
    "# likert_Q1 = complex_responses.iloc[:, 3:5]\n",
    "# likert_Q1.columns = [\"Q1_Con\", \"Q1_Sat\"]\n",
    "\n",
    "# question_Q2 = complex_responses.iloc[:, 5:11]\n",
    "# question_Q2.columns = [\"Q2.1\", \"Q2.2\", \"Q2.3\", \"Q2.4\", \"Q2.5\", \"Q2.6\"]\n",
    "# likert_Q2 = complex_responses.iloc[:, 11:13]\n",
    "# likert_Q2.columns = [\"Q2_Con\", \"Q2_Sat\"]\n",
    "\n",
    "# question_Q3 = complex_responses.iloc[:, 13:18]\n",
    "# question_Q3.columns = [\"Q3.1\", \"Q3.2\", \"Q3.3\", \"Q3.4\", \"Q3.5\"]\n",
    "# likert_Q3 = complex_responses.iloc[:, 18:20]\n",
    "# likert_Q3.columns = [\"Q3_Con\", \"Q3_Sat\"]\n",
    "\n",
    "# question_Q4 = complex_responses.iloc[:, 20:23]\n",
    "# question_Q4.columns = [\"Q4.1\", \"Q4.2\", \"Q4.3\"]\n",
    "# likert_Q4 = complex_responses.iloc[:, 23:25]\n",
    "# likert_Q4.columns = [\"Q4_Con\", \"Q4_Sat\"]\n",
    "\n",
    "# question_Q5 = complex_responses.iloc[:, 25:27]\n",
    "# question_Q5.columns = [\"Q5.1\", \"Q5.2\"]\n",
    "# likert_Q5 = complex_responses.iloc[:, 27:]\n",
    "# likert_Q5.columns = [\"Q5_Con\", \"Q5_Sat\"]"
   ]
  },
  {
   "cell_type": "code",
   "execution_count": 1448,
   "metadata": {},
   "outputs": [],
   "source": [
    "# score_Q1 = calculate(question_Q1, answer_Q1, \"Q1\")\n",
    "# score_Q2 = calculate(question_Q2, answer_Q2, \"Q2\")\n",
    "# score_Q3 = calculate(question_Q3, answer_Q3, \"Q3\")\n",
    "# score_Q4 = calculate(question_Q4, answer_Q4, \"Q4\")\n",
    "# score_Q5 = calculate(question_Q5, answer_Q5, \"Q5\")"
   ]
  },
  {
   "cell_type": "code",
   "execution_count": 1449,
   "metadata": {},
   "outputs": [],
   "source": [
    "# total = pd.concat(\n",
    "#     [\n",
    "#         score_Q1,\n",
    "#         likert_Q1.reset_index(drop=True),\n",
    "#         score_Q2,\n",
    "#         likert_Q2.reset_index(drop=True),\n",
    "#         score_Q3,\n",
    "#         likert_Q3.reset_index(drop=True),\n",
    "#         score_Q4,\n",
    "#         likert_Q4.reset_index(drop=True),\n",
    "#         score_Q5,\n",
    "#         likert_Q5.reset_index(drop=True),\n",
    "#     ],\n",
    "#     axis=1,\n",
    "# )\n",
    "\n",
    "# total[\"Complexity\"] = \"Complex\""
   ]
  },
  {
   "cell_type": "code",
   "execution_count": 47,
   "metadata": {
    "ExecuteTime": {
     "end_time": "2024-01-21T12:03:51.729687Z",
     "start_time": "2024-01-21T12:03:51.661084Z"
    }
   },
   "outputs": [],
   "source": [
    "complex_df = calculate_scores(complex_responses, answer_sheet, \"Complex\")\n",
    "simple_df = calculate_scores(simple_responses, answer_sheet, \"Simple\")\n",
    "\n",
    "\n",
    "all_responses = pd.concat(\n",
    "    [complex_df.reset_index(drop=True), simple_df.reset_index(drop=True)]\n",
    ")"
   ]
  },
  {
   "cell_type": "code",
   "execution_count": 48,
   "metadata": {
    "ExecuteTime": {
     "end_time": "2024-01-21T12:03:54.164Z",
     "start_time": "2024-01-21T12:03:53.907275Z"
    }
   },
   "outputs": [
    {
     "data": {
      "text/plain": "    Q1_Accuracy  Q1_Con  Q1_Sat  Q2_Accuracy  Q2_Con  Q2_Sat  Q3_Accuracy  \\\n0      1.000000     3.0     3.0     0.500000     4.0     4.0          0.6   \n1      0.333333     5.0     2.0     0.500000     1.0     4.0          0.6   \n2      1.000000     5.0     2.0     0.333333     3.0     3.0          0.6   \n3      0.666667     5.0     3.0     0.000000     3.0     3.0          0.6   \n4      1.000000     5.0     4.0     0.500000     5.0     2.0          0.6   \n5      0.666667     1.0     2.0     0.500000     5.0     4.0          0.6   \n6      0.333333     2.0     2.0     0.666667     3.0     2.0          0.6   \n7      1.000000     5.0     4.0     0.500000     2.0     2.0          0.6   \n8      1.000000     5.0     3.0     0.500000     2.0     2.0          0.6   \n9      1.000000     5.0     3.0     0.500000     1.0     1.0          0.6   \n10     1.000000     5.0     3.0     0.500000     2.0     2.0          0.6   \n11     0.666667     3.0     3.0     0.000000     1.0     4.0          0.4   \n12     1.000000     4.0     2.0     0.166667     2.0     2.0          0.6   \n13     0.666667     5.0     3.0     0.500000     5.0     4.0          0.4   \n14     0.333333     2.0     4.0     0.166667     5.0     4.0          0.6   \n15     1.000000     2.0     4.0     0.000000     1.0     4.0          0.6   \n\n    Q3_Con  Q3_Sat  Q4_Accuracy  Q4_Con  Q4_Sat  Q5_Accuracy  Q5_Con  Q5_Sat  \\\n0      4.0     4.0     0.333333     5.0     3.0          0.0     NaN     NaN   \n1      4.0     5.0     0.333333     3.0     2.0          0.0     1.0     1.0   \n2      4.0     1.0     0.333333     5.0     3.0          1.0     5.0     3.0   \n3      4.0     5.0     0.333333     5.0     4.0          1.0     5.0     4.0   \n4      4.0     1.0     0.000000     5.0     4.0          0.5     3.0     2.0   \n5      4.0     5.0     0.333333     2.0     3.0          1.0     4.0     5.0   \n6      5.0     2.0     0.000000     1.0     1.0          1.0     1.0     2.0   \n7      5.0     4.0     0.000000     5.0     2.0          0.5     3.0     2.0   \n8      3.0     3.0     0.333333     5.0     4.0          1.0     5.0     4.0   \n9      5.0     3.0     0.333333     5.0     2.0          1.0     4.0     4.0   \n10     4.0     4.0     0.333333     3.0     3.0          1.0     1.0     2.0   \n11     3.0     2.0     0.333333     5.0     3.0          1.0     5.0     4.0   \n12     4.0     2.0     0.333333     5.0     3.0          1.0     2.0     4.0   \n13     4.0     1.0     0.333333     5.0     3.0          0.5     5.0     4.0   \n14     3.0     4.0     0.000000     5.0     4.0          1.0     3.0     3.0   \n15     4.0     5.0     0.333333     4.0     4.0          1.0     5.0     1.0   \n\n   Complexity  \n0      Simple  \n1      Simple  \n2      Simple  \n3      Simple  \n4      Simple  \n5      Simple  \n6      Simple  \n7      Simple  \n8      Simple  \n9      Simple  \n10     Simple  \n11     Simple  \n12     Simple  \n13     Simple  \n14     Simple  \n15     Simple  ",
      "text/html": "<div>\n<style scoped>\n    .dataframe tbody tr th:only-of-type {\n        vertical-align: middle;\n    }\n\n    .dataframe tbody tr th {\n        vertical-align: top;\n    }\n\n    .dataframe thead th {\n        text-align: right;\n    }\n</style>\n<table border=\"1\" class=\"dataframe\">\n  <thead>\n    <tr style=\"text-align: right;\">\n      <th></th>\n      <th>Q1_Accuracy</th>\n      <th>Q1_Con</th>\n      <th>Q1_Sat</th>\n      <th>Q2_Accuracy</th>\n      <th>Q2_Con</th>\n      <th>Q2_Sat</th>\n      <th>Q3_Accuracy</th>\n      <th>Q3_Con</th>\n      <th>Q3_Sat</th>\n      <th>Q4_Accuracy</th>\n      <th>Q4_Con</th>\n      <th>Q4_Sat</th>\n      <th>Q5_Accuracy</th>\n      <th>Q5_Con</th>\n      <th>Q5_Sat</th>\n      <th>Complexity</th>\n    </tr>\n  </thead>\n  <tbody>\n    <tr>\n      <th>0</th>\n      <td>1.000000</td>\n      <td>3.0</td>\n      <td>3.0</td>\n      <td>0.500000</td>\n      <td>4.0</td>\n      <td>4.0</td>\n      <td>0.6</td>\n      <td>4.0</td>\n      <td>4.0</td>\n      <td>0.333333</td>\n      <td>5.0</td>\n      <td>3.0</td>\n      <td>0.0</td>\n      <td>NaN</td>\n      <td>NaN</td>\n      <td>Simple</td>\n    </tr>\n    <tr>\n      <th>1</th>\n      <td>0.333333</td>\n      <td>5.0</td>\n      <td>2.0</td>\n      <td>0.500000</td>\n      <td>1.0</td>\n      <td>4.0</td>\n      <td>0.6</td>\n      <td>4.0</td>\n      <td>5.0</td>\n      <td>0.333333</td>\n      <td>3.0</td>\n      <td>2.0</td>\n      <td>0.0</td>\n      <td>1.0</td>\n      <td>1.0</td>\n      <td>Simple</td>\n    </tr>\n    <tr>\n      <th>2</th>\n      <td>1.000000</td>\n      <td>5.0</td>\n      <td>2.0</td>\n      <td>0.333333</td>\n      <td>3.0</td>\n      <td>3.0</td>\n      <td>0.6</td>\n      <td>4.0</td>\n      <td>1.0</td>\n      <td>0.333333</td>\n      <td>5.0</td>\n      <td>3.0</td>\n      <td>1.0</td>\n      <td>5.0</td>\n      <td>3.0</td>\n      <td>Simple</td>\n    </tr>\n    <tr>\n      <th>3</th>\n      <td>0.666667</td>\n      <td>5.0</td>\n      <td>3.0</td>\n      <td>0.000000</td>\n      <td>3.0</td>\n      <td>3.0</td>\n      <td>0.6</td>\n      <td>4.0</td>\n      <td>5.0</td>\n      <td>0.333333</td>\n      <td>5.0</td>\n      <td>4.0</td>\n      <td>1.0</td>\n      <td>5.0</td>\n      <td>4.0</td>\n      <td>Simple</td>\n    </tr>\n    <tr>\n      <th>4</th>\n      <td>1.000000</td>\n      <td>5.0</td>\n      <td>4.0</td>\n      <td>0.500000</td>\n      <td>5.0</td>\n      <td>2.0</td>\n      <td>0.6</td>\n      <td>4.0</td>\n      <td>1.0</td>\n      <td>0.000000</td>\n      <td>5.0</td>\n      <td>4.0</td>\n      <td>0.5</td>\n      <td>3.0</td>\n      <td>2.0</td>\n      <td>Simple</td>\n    </tr>\n    <tr>\n      <th>5</th>\n      <td>0.666667</td>\n      <td>1.0</td>\n      <td>2.0</td>\n      <td>0.500000</td>\n      <td>5.0</td>\n      <td>4.0</td>\n      <td>0.6</td>\n      <td>4.0</td>\n      <td>5.0</td>\n      <td>0.333333</td>\n      <td>2.0</td>\n      <td>3.0</td>\n      <td>1.0</td>\n      <td>4.0</td>\n      <td>5.0</td>\n      <td>Simple</td>\n    </tr>\n    <tr>\n      <th>6</th>\n      <td>0.333333</td>\n      <td>2.0</td>\n      <td>2.0</td>\n      <td>0.666667</td>\n      <td>3.0</td>\n      <td>2.0</td>\n      <td>0.6</td>\n      <td>5.0</td>\n      <td>2.0</td>\n      <td>0.000000</td>\n      <td>1.0</td>\n      <td>1.0</td>\n      <td>1.0</td>\n      <td>1.0</td>\n      <td>2.0</td>\n      <td>Simple</td>\n    </tr>\n    <tr>\n      <th>7</th>\n      <td>1.000000</td>\n      <td>5.0</td>\n      <td>4.0</td>\n      <td>0.500000</td>\n      <td>2.0</td>\n      <td>2.0</td>\n      <td>0.6</td>\n      <td>5.0</td>\n      <td>4.0</td>\n      <td>0.000000</td>\n      <td>5.0</td>\n      <td>2.0</td>\n      <td>0.5</td>\n      <td>3.0</td>\n      <td>2.0</td>\n      <td>Simple</td>\n    </tr>\n    <tr>\n      <th>8</th>\n      <td>1.000000</td>\n      <td>5.0</td>\n      <td>3.0</td>\n      <td>0.500000</td>\n      <td>2.0</td>\n      <td>2.0</td>\n      <td>0.6</td>\n      <td>3.0</td>\n      <td>3.0</td>\n      <td>0.333333</td>\n      <td>5.0</td>\n      <td>4.0</td>\n      <td>1.0</td>\n      <td>5.0</td>\n      <td>4.0</td>\n      <td>Simple</td>\n    </tr>\n    <tr>\n      <th>9</th>\n      <td>1.000000</td>\n      <td>5.0</td>\n      <td>3.0</td>\n      <td>0.500000</td>\n      <td>1.0</td>\n      <td>1.0</td>\n      <td>0.6</td>\n      <td>5.0</td>\n      <td>3.0</td>\n      <td>0.333333</td>\n      <td>5.0</td>\n      <td>2.0</td>\n      <td>1.0</td>\n      <td>4.0</td>\n      <td>4.0</td>\n      <td>Simple</td>\n    </tr>\n    <tr>\n      <th>10</th>\n      <td>1.000000</td>\n      <td>5.0</td>\n      <td>3.0</td>\n      <td>0.500000</td>\n      <td>2.0</td>\n      <td>2.0</td>\n      <td>0.6</td>\n      <td>4.0</td>\n      <td>4.0</td>\n      <td>0.333333</td>\n      <td>3.0</td>\n      <td>3.0</td>\n      <td>1.0</td>\n      <td>1.0</td>\n      <td>2.0</td>\n      <td>Simple</td>\n    </tr>\n    <tr>\n      <th>11</th>\n      <td>0.666667</td>\n      <td>3.0</td>\n      <td>3.0</td>\n      <td>0.000000</td>\n      <td>1.0</td>\n      <td>4.0</td>\n      <td>0.4</td>\n      <td>3.0</td>\n      <td>2.0</td>\n      <td>0.333333</td>\n      <td>5.0</td>\n      <td>3.0</td>\n      <td>1.0</td>\n      <td>5.0</td>\n      <td>4.0</td>\n      <td>Simple</td>\n    </tr>\n    <tr>\n      <th>12</th>\n      <td>1.000000</td>\n      <td>4.0</td>\n      <td>2.0</td>\n      <td>0.166667</td>\n      <td>2.0</td>\n      <td>2.0</td>\n      <td>0.6</td>\n      <td>4.0</td>\n      <td>2.0</td>\n      <td>0.333333</td>\n      <td>5.0</td>\n      <td>3.0</td>\n      <td>1.0</td>\n      <td>2.0</td>\n      <td>4.0</td>\n      <td>Simple</td>\n    </tr>\n    <tr>\n      <th>13</th>\n      <td>0.666667</td>\n      <td>5.0</td>\n      <td>3.0</td>\n      <td>0.500000</td>\n      <td>5.0</td>\n      <td>4.0</td>\n      <td>0.4</td>\n      <td>4.0</td>\n      <td>1.0</td>\n      <td>0.333333</td>\n      <td>5.0</td>\n      <td>3.0</td>\n      <td>0.5</td>\n      <td>5.0</td>\n      <td>4.0</td>\n      <td>Simple</td>\n    </tr>\n    <tr>\n      <th>14</th>\n      <td>0.333333</td>\n      <td>2.0</td>\n      <td>4.0</td>\n      <td>0.166667</td>\n      <td>5.0</td>\n      <td>4.0</td>\n      <td>0.6</td>\n      <td>3.0</td>\n      <td>4.0</td>\n      <td>0.000000</td>\n      <td>5.0</td>\n      <td>4.0</td>\n      <td>1.0</td>\n      <td>3.0</td>\n      <td>3.0</td>\n      <td>Simple</td>\n    </tr>\n    <tr>\n      <th>15</th>\n      <td>1.000000</td>\n      <td>2.0</td>\n      <td>4.0</td>\n      <td>0.000000</td>\n      <td>1.0</td>\n      <td>4.0</td>\n      <td>0.6</td>\n      <td>4.0</td>\n      <td>5.0</td>\n      <td>0.333333</td>\n      <td>4.0</td>\n      <td>4.0</td>\n      <td>1.0</td>\n      <td>5.0</td>\n      <td>1.0</td>\n      <td>Simple</td>\n    </tr>\n  </tbody>\n</table>\n</div>"
     },
     "execution_count": 48,
     "metadata": {},
     "output_type": "execute_result"
    }
   ],
   "source": [
    "simple_df.head(20)"
   ]
  },
  {
   "cell_type": "code",
   "execution_count": 49,
   "metadata": {
    "ExecuteTime": {
     "end_time": "2024-01-21T12:04:13.046194Z",
     "start_time": "2024-01-21T12:04:13.038169Z"
    }
   },
   "outputs": [],
   "source": [
    "all_responses.to_csv(\"./data/transformed/all_responses.csv\")"
   ]
  },
  {
   "cell_type": "code",
   "execution_count": 50,
   "metadata": {
    "ExecuteTime": {
     "end_time": "2024-01-21T12:04:16.692523Z",
     "start_time": "2024-01-21T12:04:16.337214Z"
    }
   },
   "outputs": [
    {
     "data": {
      "text/plain": "      US    UC\n19  0.48  0.36\n24  0.40  0.36\n27  0.60  0.52\n30  0.80  0.88\n31   NaN   NaN\n37  0.64  0.72\n40  0.68  0.68\n47  0.80  0.80",
      "text/html": "<div>\n<style scoped>\n    .dataframe tbody tr th:only-of-type {\n        vertical-align: middle;\n    }\n\n    .dataframe tbody tr th {\n        vertical-align: top;\n    }\n\n    .dataframe thead th {\n        text-align: right;\n    }\n</style>\n<table border=\"1\" class=\"dataframe\">\n  <thead>\n    <tr style=\"text-align: right;\">\n      <th></th>\n      <th>US</th>\n      <th>UC</th>\n    </tr>\n  </thead>\n  <tbody>\n    <tr>\n      <th>19</th>\n      <td>0.48</td>\n      <td>0.36</td>\n    </tr>\n    <tr>\n      <th>24</th>\n      <td>0.40</td>\n      <td>0.36</td>\n    </tr>\n    <tr>\n      <th>27</th>\n      <td>0.60</td>\n      <td>0.52</td>\n    </tr>\n    <tr>\n      <th>30</th>\n      <td>0.80</td>\n      <td>0.88</td>\n    </tr>\n    <tr>\n      <th>31</th>\n      <td>NaN</td>\n      <td>NaN</td>\n    </tr>\n    <tr>\n      <th>37</th>\n      <td>0.64</td>\n      <td>0.72</td>\n    </tr>\n    <tr>\n      <th>40</th>\n      <td>0.68</td>\n      <td>0.68</td>\n    </tr>\n    <tr>\n      <th>47</th>\n      <td>0.80</td>\n      <td>0.80</td>\n    </tr>\n  </tbody>\n</table>\n</div>"
     },
     "execution_count": 50,
     "metadata": {},
     "output_type": "execute_result"
    }
   ],
   "source": [
    "# Calculate User confidence for simple visualizations\n",
    "simple_responses[\"UC\"] = (\n",
    "    simple_responses[\"Q73\"]\n",
    "    + simple_responses[\"Q76\"]\n",
    "    + simple_responses[\"Q78\"]\n",
    "    + simple_responses[\"Q74\"]\n",
    "    + simple_responses[\"Q80\"]\n",
    ") / 25\n",
    "# Calculate User satisfaction for simple visualization\n",
    "simple_responses[\"US\"] = (\n",
    "    simple_responses[\"Q72\"]\n",
    "    + simple_responses[\"Q75\"]\n",
    "    + simple_responses[\"Q77\"]\n",
    "    + simple_responses[\"Q79\"]\n",
    "    + simple_responses[\"Q81\"]\n",
    ") / 25\n",
    "\n",
    "# Calculate User confidence for complex visualizations\n",
    "complex_responses[\"UC\"] = (\n",
    "    complex_responses[\"QUC1\"]\n",
    "    + complex_responses[\"Q61\"]\n",
    "    + complex_responses[\"Q63\"]\n",
    "    + complex_responses[\"Q65\"]\n",
    "    + complex_responses[\"Q67\"]\n",
    ") / 25\n",
    "# Calculate User satisfaction for complex visualization\n",
    "complex_responses[\"US\"] = (\n",
    "    complex_responses[\"QUS1\"]\n",
    "    + complex_responses[\"Q62\"]\n",
    "    + complex_responses[\"Q64\"]\n",
    "    + complex_responses[\"Q66\"]\n",
    "    + complex_responses[\"Q68\"]\n",
    ") / 25\n",
    "\n",
    "# show result for simple and complex results\n",
    "complex_responses[[\"US\", \"UC\"]]"
   ]
  },
  {
   "cell_type": "code",
   "execution_count": 51,
   "metadata": {
    "collapsed": false,
    "ExecuteTime": {
     "end_time": "2024-01-21T12:04:19.081036Z",
     "start_time": "2024-01-21T12:04:19.041280Z"
    }
   },
   "outputs": [
    {
     "data": {
      "text/plain": "      US    UC\n20   NaN   NaN\n21  0.56  0.56\n22  0.48  0.88\n23  0.76  0.88\n25  0.52  0.88\n26  0.76  0.64\n28  0.36  0.48\n29  0.56  0.80\n32  0.64  0.80\n34  0.52  0.80\n35  0.56  0.60\n41  0.64  0.68\n42  0.52  0.68\n43  0.60  0.96\n45  0.76  0.72\n46  0.72  0.64",
      "text/html": "<div>\n<style scoped>\n    .dataframe tbody tr th:only-of-type {\n        vertical-align: middle;\n    }\n\n    .dataframe tbody tr th {\n        vertical-align: top;\n    }\n\n    .dataframe thead th {\n        text-align: right;\n    }\n</style>\n<table border=\"1\" class=\"dataframe\">\n  <thead>\n    <tr style=\"text-align: right;\">\n      <th></th>\n      <th>US</th>\n      <th>UC</th>\n    </tr>\n  </thead>\n  <tbody>\n    <tr>\n      <th>20</th>\n      <td>NaN</td>\n      <td>NaN</td>\n    </tr>\n    <tr>\n      <th>21</th>\n      <td>0.56</td>\n      <td>0.56</td>\n    </tr>\n    <tr>\n      <th>22</th>\n      <td>0.48</td>\n      <td>0.88</td>\n    </tr>\n    <tr>\n      <th>23</th>\n      <td>0.76</td>\n      <td>0.88</td>\n    </tr>\n    <tr>\n      <th>25</th>\n      <td>0.52</td>\n      <td>0.88</td>\n    </tr>\n    <tr>\n      <th>26</th>\n      <td>0.76</td>\n      <td>0.64</td>\n    </tr>\n    <tr>\n      <th>28</th>\n      <td>0.36</td>\n      <td>0.48</td>\n    </tr>\n    <tr>\n      <th>29</th>\n      <td>0.56</td>\n      <td>0.80</td>\n    </tr>\n    <tr>\n      <th>32</th>\n      <td>0.64</td>\n      <td>0.80</td>\n    </tr>\n    <tr>\n      <th>34</th>\n      <td>0.52</td>\n      <td>0.80</td>\n    </tr>\n    <tr>\n      <th>35</th>\n      <td>0.56</td>\n      <td>0.60</td>\n    </tr>\n    <tr>\n      <th>41</th>\n      <td>0.64</td>\n      <td>0.68</td>\n    </tr>\n    <tr>\n      <th>42</th>\n      <td>0.52</td>\n      <td>0.68</td>\n    </tr>\n    <tr>\n      <th>43</th>\n      <td>0.60</td>\n      <td>0.96</td>\n    </tr>\n    <tr>\n      <th>45</th>\n      <td>0.76</td>\n      <td>0.72</td>\n    </tr>\n    <tr>\n      <th>46</th>\n      <td>0.72</td>\n      <td>0.64</td>\n    </tr>\n  </tbody>\n</table>\n</div>"
     },
     "execution_count": 51,
     "metadata": {},
     "output_type": "execute_result"
    }
   ],
   "source": [
    "simple_responses[[\"US\", \"UC\"]]"
   ]
  },
  {
   "cell_type": "code",
   "execution_count": null,
   "metadata": {
    "collapsed": false
   },
   "outputs": [],
   "source": []
  }
 ],
 "metadata": {
  "kernelspec": {
   "display_name": "base",
   "language": "python",
   "name": "python3"
  },
  "language_info": {
   "codemirror_mode": {
    "name": "ipython",
    "version": 3
   },
   "file_extension": ".py",
   "mimetype": "text/x-python",
   "name": "python",
   "nbconvert_exporter": "python",
   "pygments_lexer": "ipython3",
   "version": "3.11.5"
  }
 },
 "nbformat": 4,
 "nbformat_minor": 2
}
